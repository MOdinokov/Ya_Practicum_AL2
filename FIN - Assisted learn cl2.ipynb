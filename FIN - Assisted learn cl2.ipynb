{
 "cells": [
  {
   "cell_type": "code",
   "execution_count": null,
   "metadata": {},
   "outputs": [],
   "source": []
  },
  {
   "cell_type": "markdown",
   "metadata": {
    "toc": true
   },
   "source": [
    "<h1>Содержание<span class=\"tocSkip\"></span></h1>\n",
    "<div class=\"toc\"><ul class=\"toc-item\"><li><span><a href=\"#Введение\" data-toc-modified-id=\"Введение-1\"><span class=\"toc-item-num\">1&nbsp;&nbsp;</span>Введение</a></span></li><li><span><a href=\"#Подготовка-данных\" data-toc-modified-id=\"Подготовка-данных-2\"><span class=\"toc-item-num\">2&nbsp;&nbsp;</span>Подготовка данных</a></span></li><li><span><a href=\"#Исследование-задачи\" data-toc-modified-id=\"Исследование-задачи-3\"><span class=\"toc-item-num\">3&nbsp;&nbsp;</span>Исследование задачи</a></span></li><li><span><a href=\"#Борьба-с-дисбалансом\" data-toc-modified-id=\"Борьба-с-дисбалансом-4\"><span class=\"toc-item-num\">4&nbsp;&nbsp;</span>Борьба с дисбалансом</a></span><ul class=\"toc-item\"><li><ul class=\"toc-item\"><li><span><a href=\"#Способ-1---Взвешивание\" data-toc-modified-id=\"Способ-1---Взвешивание-4.0.1\"><span class=\"toc-item-num\">4.0.1&nbsp;&nbsp;</span>Способ 1 - Взвешивание</a></span></li><li><span><a href=\"#Способ-2---Увеличение-выборки\" data-toc-modified-id=\"Способ-2---Увеличение-выборки-4.0.2\"><span class=\"toc-item-num\">4.0.2&nbsp;&nbsp;</span>Способ 2 - Увеличение выборки</a></span></li><li><span><a href=\"#Способ-3---Уменьшение-выборки\" data-toc-modified-id=\"Способ-3---Уменьшение-выборки-4.0.3\"><span class=\"toc-item-num\">4.0.3&nbsp;&nbsp;</span>Способ 3 - Уменьшение выборки</a></span></li></ul></li></ul></li><li><span><a href=\"#Тестирование-модели\" data-toc-modified-id=\"Тестирование-модели-5\"><span class=\"toc-item-num\">5&nbsp;&nbsp;</span>Тестирование модели</a></span></li><li><span><a href=\"#Общий-вывод.\" data-toc-modified-id=\"Общий-вывод.-6\"><span class=\"toc-item-num\">6&nbsp;&nbsp;</span>Общий вывод.</a></span></li><li><span><a href=\"#Чек-лист-готовности-проекта\" data-toc-modified-id=\"Чек-лист-готовности-проекта-7\"><span class=\"toc-item-num\">7&nbsp;&nbsp;</span>Чек-лист готовности проекта</a></span></li></ul></div>"
   ]
  },
  {
   "cell_type": "markdown",
   "metadata": {},
   "source": [
    "# Отток клиентов"
   ]
  },
  {
   "cell_type": "markdown",
   "metadata": {},
   "source": [
    "Из «Бета-Банка» стали уходить клиенты. Каждый месяц. Немного, но заметно. Банковские маркетологи посчитали: сохранять текущих клиентов дешевле, чем привлекать новых.\n",
    "\n",
    "Нужно спрогнозировать, уйдёт клиент из банка в ближайшее время или нет. Вам предоставлены исторические данные о поведении клиентов и расторжении договоров с банком. \n",
    "\n",
    "Постройте модель с предельно большим значением *F1*-меры. Чтобы сдать проект успешно, нужно довести метрику до 0.59. Проверьте *F1*-меру на тестовой выборке самостоятельно.\n",
    "\n",
    "Дополнительно измеряйте *AUC-ROC*, сравнивайте её значение с *F1*-мерой.\n",
    "\n",
    "Источник данных: [https://www.kaggle.com/barelydedicated/bank-customer-churn-modeling](https://www.kaggle.com/barelydedicated/bank-customer-churn-modeling)"
   ]
  },
  {
   "cell_type": "markdown",
   "metadata": {},
   "source": [
    "## Введение"
   ]
  },
  {
   "cell_type": "markdown",
   "metadata": {},
   "source": [
    "Цель исследования: \n",
    "построить модель, которая на основе информации о клиентах банка, спрогнозировала бы наиболее вероятное поведение клиента: уйдет он или нет.\n",
    "\n",
    "Чтобы на основе полученной информации банк мог принять меры по удержанию клиента."
   ]
  },
  {
   "cell_type": "markdown",
   "metadata": {
    "tags": []
   },
   "source": [
    "## Подготовка данных"
   ]
  },
  {
   "cell_type": "code",
   "execution_count": 1,
   "metadata": {},
   "outputs": [],
   "source": [
    "from sklearn.model_selection import train_test_split\n",
    "from sklearn.preprocessing import OneHotEncoder\n",
    "import pandas as pd\n",
    "from sklearn.tree import DecisionTreeClassifier\n",
    "from sklearn.ensemble import RandomForestClassifier\n",
    "from sklearn.preprocessing import StandardScaler \n",
    "from sklearn.metrics import accuracy_score\n",
    "from sklearn.metrics import f1_score\n",
    "from sklearn.utils import shuffle\n",
    "import matplotlib.pyplot as plt\n",
    "from sklearn.metrics import roc_auc_score \n",
    "import warnings\n",
    "warnings.filterwarnings(\"ignore\")"
   ]
  },
  {
   "cell_type": "code",
   "execution_count": null,
   "metadata": {},
   "outputs": [],
   "source": []
  },
  {
   "cell_type": "code",
   "execution_count": 2,
   "metadata": {},
   "outputs": [],
   "source": [
    "try:\n",
    "    df = pd.read_csv('Churn.csv')\n",
    "except:\n",
    "    df = pd.read_csv('/datasets/Churn.csv')"
   ]
  },
  {
   "cell_type": "code",
   "execution_count": 3,
   "metadata": {},
   "outputs": [
    {
     "data": {
      "text/html": [
       "<div>\n",
       "<style scoped>\n",
       "    .dataframe tbody tr th:only-of-type {\n",
       "        vertical-align: middle;\n",
       "    }\n",
       "\n",
       "    .dataframe tbody tr th {\n",
       "        vertical-align: top;\n",
       "    }\n",
       "\n",
       "    .dataframe thead th {\n",
       "        text-align: right;\n",
       "    }\n",
       "</style>\n",
       "<table border=\"1\" class=\"dataframe\">\n",
       "  <thead>\n",
       "    <tr style=\"text-align: right;\">\n",
       "      <th></th>\n",
       "      <th>RowNumber</th>\n",
       "      <th>CustomerId</th>\n",
       "      <th>Surname</th>\n",
       "      <th>CreditScore</th>\n",
       "      <th>Geography</th>\n",
       "      <th>Gender</th>\n",
       "      <th>Age</th>\n",
       "      <th>Tenure</th>\n",
       "      <th>Balance</th>\n",
       "      <th>NumOfProducts</th>\n",
       "      <th>HasCrCard</th>\n",
       "      <th>IsActiveMember</th>\n",
       "      <th>EstimatedSalary</th>\n",
       "      <th>Exited</th>\n",
       "    </tr>\n",
       "  </thead>\n",
       "  <tbody>\n",
       "    <tr>\n",
       "      <th>0</th>\n",
       "      <td>1</td>\n",
       "      <td>15634602</td>\n",
       "      <td>Hargrave</td>\n",
       "      <td>619</td>\n",
       "      <td>France</td>\n",
       "      <td>Female</td>\n",
       "      <td>42</td>\n",
       "      <td>2.0</td>\n",
       "      <td>0.00</td>\n",
       "      <td>1</td>\n",
       "      <td>1</td>\n",
       "      <td>1</td>\n",
       "      <td>101348.88</td>\n",
       "      <td>1</td>\n",
       "    </tr>\n",
       "    <tr>\n",
       "      <th>1</th>\n",
       "      <td>2</td>\n",
       "      <td>15647311</td>\n",
       "      <td>Hill</td>\n",
       "      <td>608</td>\n",
       "      <td>Spain</td>\n",
       "      <td>Female</td>\n",
       "      <td>41</td>\n",
       "      <td>1.0</td>\n",
       "      <td>83807.86</td>\n",
       "      <td>1</td>\n",
       "      <td>0</td>\n",
       "      <td>1</td>\n",
       "      <td>112542.58</td>\n",
       "      <td>0</td>\n",
       "    </tr>\n",
       "    <tr>\n",
       "      <th>2</th>\n",
       "      <td>3</td>\n",
       "      <td>15619304</td>\n",
       "      <td>Onio</td>\n",
       "      <td>502</td>\n",
       "      <td>France</td>\n",
       "      <td>Female</td>\n",
       "      <td>42</td>\n",
       "      <td>8.0</td>\n",
       "      <td>159660.80</td>\n",
       "      <td>3</td>\n",
       "      <td>1</td>\n",
       "      <td>0</td>\n",
       "      <td>113931.57</td>\n",
       "      <td>1</td>\n",
       "    </tr>\n",
       "    <tr>\n",
       "      <th>3</th>\n",
       "      <td>4</td>\n",
       "      <td>15701354</td>\n",
       "      <td>Boni</td>\n",
       "      <td>699</td>\n",
       "      <td>France</td>\n",
       "      <td>Female</td>\n",
       "      <td>39</td>\n",
       "      <td>1.0</td>\n",
       "      <td>0.00</td>\n",
       "      <td>2</td>\n",
       "      <td>0</td>\n",
       "      <td>0</td>\n",
       "      <td>93826.63</td>\n",
       "      <td>0</td>\n",
       "    </tr>\n",
       "    <tr>\n",
       "      <th>4</th>\n",
       "      <td>5</td>\n",
       "      <td>15737888</td>\n",
       "      <td>Mitchell</td>\n",
       "      <td>850</td>\n",
       "      <td>Spain</td>\n",
       "      <td>Female</td>\n",
       "      <td>43</td>\n",
       "      <td>2.0</td>\n",
       "      <td>125510.82</td>\n",
       "      <td>1</td>\n",
       "      <td>1</td>\n",
       "      <td>1</td>\n",
       "      <td>79084.10</td>\n",
       "      <td>0</td>\n",
       "    </tr>\n",
       "  </tbody>\n",
       "</table>\n",
       "</div>"
      ],
      "text/plain": [
       "   RowNumber  CustomerId   Surname  CreditScore Geography  Gender  Age  \\\n",
       "0          1    15634602  Hargrave          619    France  Female   42   \n",
       "1          2    15647311      Hill          608     Spain  Female   41   \n",
       "2          3    15619304      Onio          502    France  Female   42   \n",
       "3          4    15701354      Boni          699    France  Female   39   \n",
       "4          5    15737888  Mitchell          850     Spain  Female   43   \n",
       "\n",
       "   Tenure    Balance  NumOfProducts  HasCrCard  IsActiveMember  \\\n",
       "0     2.0       0.00              1          1               1   \n",
       "1     1.0   83807.86              1          0               1   \n",
       "2     8.0  159660.80              3          1               0   \n",
       "3     1.0       0.00              2          0               0   \n",
       "4     2.0  125510.82              1          1               1   \n",
       "\n",
       "   EstimatedSalary  Exited  \n",
       "0        101348.88       1  \n",
       "1        112542.58       0  \n",
       "2        113931.57       1  \n",
       "3         93826.63       0  \n",
       "4         79084.10       0  "
      ]
     },
     "execution_count": 3,
     "metadata": {},
     "output_type": "execute_result"
    }
   ],
   "source": [
    "df.head(5)"
   ]
  },
  {
   "cell_type": "markdown",
   "metadata": {},
   "source": [
    "Проверим данные на пропущенные значения"
   ]
  },
  {
   "cell_type": "code",
   "execution_count": 4,
   "metadata": {},
   "outputs": [
    {
     "name": "stdout",
     "output_type": "stream",
     "text": [
      "<class 'pandas.core.frame.DataFrame'>\n",
      "RangeIndex: 10000 entries, 0 to 9999\n",
      "Data columns (total 14 columns):\n",
      " #   Column           Non-Null Count  Dtype  \n",
      "---  ------           --------------  -----  \n",
      " 0   RowNumber        10000 non-null  int64  \n",
      " 1   CustomerId       10000 non-null  int64  \n",
      " 2   Surname          10000 non-null  object \n",
      " 3   CreditScore      10000 non-null  int64  \n",
      " 4   Geography        10000 non-null  object \n",
      " 5   Gender           10000 non-null  object \n",
      " 6   Age              10000 non-null  int64  \n",
      " 7   Tenure           9091 non-null   float64\n",
      " 8   Balance          10000 non-null  float64\n",
      " 9   NumOfProducts    10000 non-null  int64  \n",
      " 10  HasCrCard        10000 non-null  int64  \n",
      " 11  IsActiveMember   10000 non-null  int64  \n",
      " 12  EstimatedSalary  10000 non-null  float64\n",
      " 13  Exited           10000 non-null  int64  \n",
      "dtypes: float64(3), int64(8), object(3)\n",
      "memory usage: 1.1+ MB\n"
     ]
    }
   ],
   "source": [
    "df.info()"
   ]
  },
  {
   "cell_type": "markdown",
   "metadata": {},
   "source": [
    "Вывод: пропущенные значения есть в поле Tenure"
   ]
  },
  {
   "cell_type": "markdown",
   "metadata": {},
   "source": [
    "Проверим данные на дубликаты"
   ]
  },
  {
   "cell_type": "code",
   "execution_count": 5,
   "metadata": {},
   "outputs": [
    {
     "data": {
      "text/plain": [
       "0"
      ]
     },
     "execution_count": 5,
     "metadata": {},
     "output_type": "execute_result"
    }
   ],
   "source": [
    "df.duplicated().sum()"
   ]
  },
  {
   "cell_type": "markdown",
   "metadata": {},
   "source": [
    "Вывод: явных дубликатов нет"
   ]
  },
  {
   "cell_type": "markdown",
   "metadata": {},
   "source": [
    "Посмотрим распределения значений по параметрам"
   ]
  },
  {
   "cell_type": "code",
   "execution_count": 6,
   "metadata": {},
   "outputs": [
    {
     "data": {
      "image/png": "[encoded data removed]",
      "text/plain": [
       "<Figure size 720x1080 with 12 Axes>"
      ]
     },
     "metadata": {
      "needs_background": "light"
     },
     "output_type": "display_data"
    }
   ],
   "source": [
    "df.hist(bins=50, figsize=(10, 15));"
   ]
  },
  {
   "cell_type": "markdown",
   "metadata": {},
   "source": [
    "Вывод: Явных необъяснимых аномалий не обнаружено. Всплеск в CreditScore в максимальном значении объясняется тем, что есть сегмент людей, у которых максимально возможный из существующих CreditScore, то есть всплеск объясняется просто тем что существует максимально возможное значение CreditScore. \n",
    "Всплеск в Balance в 0 объясняется тем, что существует сегмент, у которых есть договор с банком, но они не используют банковский счет в этом банкев своих операциях."
   ]
  },
  {
   "cell_type": "markdown",
   "metadata": {},
   "source": []
  },
  {
   "cell_type": "code",
   "execution_count": null,
   "metadata": {},
   "outputs": [],
   "source": []
  },
  {
   "cell_type": "markdown",
   "metadata": {},
   "source": [
    "Подготовим данные для моделирования и разделим на обучающую (60%), валидационную (20%) и тестовую выборки (20%)."
   ]
  },
  {
   "cell_type": "code",
   "execution_count": 8,
   "metadata": {},
   "outputs": [],
   "source": [
    "features = df.drop(['Exited'], axis=1)\n",
    "target = df['Exited']"
   ]
  },
  {
   "cell_type": "code",
   "execution_count": 9,
   "metadata": {},
   "outputs": [],
   "source": [
    "features_trv, features_test, target_trv, target_test = train_test_split(\n",
    "    features, target, test_size=(1/5), random_state=12345)"
   ]
  },
  {
   "cell_type": "code",
   "execution_count": 10,
   "metadata": {},
   "outputs": [],
   "source": [
    "features_train, features_valid, target_train, target_valid = train_test_split(\n",
    "    features_trv, target_trv, test_size=(1/4), random_state=12345)"
   ]
  },
  {
   "cell_type": "code",
   "execution_count": 11,
   "metadata": {},
   "outputs": [
    {
     "data": {
      "text/plain": [
       "(6000, 13)"
      ]
     },
     "execution_count": 11,
     "metadata": {},
     "output_type": "execute_result"
    }
   ],
   "source": [
    "features_train.shape"
   ]
  },
  {
   "cell_type": "code",
   "execution_count": 12,
   "metadata": {},
   "outputs": [
    {
     "data": {
      "text/plain": [
       "(2000, 13)"
      ]
     },
     "execution_count": 12,
     "metadata": {},
     "output_type": "execute_result"
    }
   ],
   "source": [
    "features_valid.shape"
   ]
  },
  {
   "cell_type": "code",
   "execution_count": 13,
   "metadata": {},
   "outputs": [
    {
     "data": {
      "text/plain": [
       "(2000, 13)"
      ]
     },
     "execution_count": 13,
     "metadata": {},
     "output_type": "execute_result"
    }
   ],
   "source": [
    "features_test.shape"
   ]
  },
  {
   "cell_type": "markdown",
   "metadata": {},
   "source": [
    "Преобразуем категориальные значения в dummy переменные, а также заполним пропущенные значения"
   ]
  },
  {
   "cell_type": "code",
   "execution_count": 14,
   "metadata": {},
   "outputs": [],
   "source": [
    "encoder = OneHotEncoder(drop='first')"
   ]
  },
  {
   "cell_type": "markdown",
   "metadata": {},
   "source": [
    "Features Train - преобразование и заполнение пропущенных значений"
   ]
  },
  {
   "cell_type": "code",
   "execution_count": 15,
   "metadata": {},
   "outputs": [],
   "source": [
    "encoded_FT = encoder.fit_transform(features_train[['Gender','Geography']])\n",
    "encoded_FT_array = encoded_FT.toarray()\n",
    "encoded_varsFT = pd.DataFrame(encoded_FT.toarray(), columns=encoder.get_feature_names())\n",
    "features_train = features_train.reset_index()\n",
    "features_train = pd.concat([features_train, encoded_varsFT], axis=1)\n",
    "features_train = features_train.drop(['index','RowNumber','CustomerId','Surname','Geography','Gender'],axis=1)"
   ]
  },
  {
   "cell_type": "code",
   "execution_count": 16,
   "metadata": {},
   "outputs": [
    {
     "data": {
      "text/html": [
       "<div>\n",
       "<style scoped>\n",
       "    .dataframe tbody tr th:only-of-type {\n",
       "        vertical-align: middle;\n",
       "    }\n",
       "\n",
       "    .dataframe tbody tr th {\n",
       "        vertical-align: top;\n",
       "    }\n",
       "\n",
       "    .dataframe thead th {\n",
       "        text-align: right;\n",
       "    }\n",
       "</style>\n",
       "<table border=\"1\" class=\"dataframe\">\n",
       "  <thead>\n",
       "    <tr style=\"text-align: right;\">\n",
       "      <th></th>\n",
       "      <th>CreditScore</th>\n",
       "      <th>Age</th>\n",
       "      <th>Tenure</th>\n",
       "      <th>Balance</th>\n",
       "      <th>NumOfProducts</th>\n",
       "      <th>HasCrCard</th>\n",
       "      <th>IsActiveMember</th>\n",
       "      <th>EstimatedSalary</th>\n",
       "      <th>x0_Male</th>\n",
       "      <th>x1_Germany</th>\n",
       "      <th>x1_Spain</th>\n",
       "    </tr>\n",
       "  </thead>\n",
       "  <tbody>\n",
       "    <tr>\n",
       "      <th>0</th>\n",
       "      <td>639</td>\n",
       "      <td>38</td>\n",
       "      <td>4.0</td>\n",
       "      <td>81550.94</td>\n",
       "      <td>2</td>\n",
       "      <td>0</td>\n",
       "      <td>1</td>\n",
       "      <td>118974.77</td>\n",
       "      <td>0.0</td>\n",
       "      <td>0.0</td>\n",
       "      <td>0.0</td>\n",
       "    </tr>\n",
       "    <tr>\n",
       "      <th>1</th>\n",
       "      <td>554</td>\n",
       "      <td>44</td>\n",
       "      <td>NaN</td>\n",
       "      <td>85304.27</td>\n",
       "      <td>1</td>\n",
       "      <td>1</td>\n",
       "      <td>1</td>\n",
       "      <td>58076.52</td>\n",
       "      <td>1.0</td>\n",
       "      <td>0.0</td>\n",
       "      <td>0.0</td>\n",
       "    </tr>\n",
       "    <tr>\n",
       "      <th>2</th>\n",
       "      <td>714</td>\n",
       "      <td>53</td>\n",
       "      <td>1.0</td>\n",
       "      <td>99141.86</td>\n",
       "      <td>1</td>\n",
       "      <td>1</td>\n",
       "      <td>1</td>\n",
       "      <td>72496.05</td>\n",
       "      <td>1.0</td>\n",
       "      <td>1.0</td>\n",
       "      <td>0.0</td>\n",
       "    </tr>\n",
       "    <tr>\n",
       "      <th>3</th>\n",
       "      <td>556</td>\n",
       "      <td>61</td>\n",
       "      <td>2.0</td>\n",
       "      <td>117419.35</td>\n",
       "      <td>1</td>\n",
       "      <td>1</td>\n",
       "      <td>1</td>\n",
       "      <td>94153.83</td>\n",
       "      <td>0.0</td>\n",
       "      <td>0.0</td>\n",
       "      <td>0.0</td>\n",
       "    </tr>\n",
       "    <tr>\n",
       "      <th>4</th>\n",
       "      <td>707</td>\n",
       "      <td>46</td>\n",
       "      <td>7.0</td>\n",
       "      <td>127476.73</td>\n",
       "      <td>2</td>\n",
       "      <td>1</td>\n",
       "      <td>1</td>\n",
       "      <td>146011.55</td>\n",
       "      <td>0.0</td>\n",
       "      <td>0.0</td>\n",
       "      <td>0.0</td>\n",
       "    </tr>\n",
       "    <tr>\n",
       "      <th>...</th>\n",
       "      <td>...</td>\n",
       "      <td>...</td>\n",
       "      <td>...</td>\n",
       "      <td>...</td>\n",
       "      <td>...</td>\n",
       "      <td>...</td>\n",
       "      <td>...</td>\n",
       "      <td>...</td>\n",
       "      <td>...</td>\n",
       "      <td>...</td>\n",
       "      <td>...</td>\n",
       "    </tr>\n",
       "    <tr>\n",
       "      <th>5995</th>\n",
       "      <td>592</td>\n",
       "      <td>36</td>\n",
       "      <td>10.0</td>\n",
       "      <td>123187.51</td>\n",
       "      <td>1</td>\n",
       "      <td>0</td>\n",
       "      <td>1</td>\n",
       "      <td>146111.35</td>\n",
       "      <td>1.0</td>\n",
       "      <td>1.0</td>\n",
       "      <td>0.0</td>\n",
       "    </tr>\n",
       "    <tr>\n",
       "      <th>5996</th>\n",
       "      <td>821</td>\n",
       "      <td>28</td>\n",
       "      <td>8.0</td>\n",
       "      <td>0.00</td>\n",
       "      <td>1</td>\n",
       "      <td>1</td>\n",
       "      <td>1</td>\n",
       "      <td>36754.13</td>\n",
       "      <td>0.0</td>\n",
       "      <td>0.0</td>\n",
       "      <td>0.0</td>\n",
       "    </tr>\n",
       "    <tr>\n",
       "      <th>5997</th>\n",
       "      <td>707</td>\n",
       "      <td>32</td>\n",
       "      <td>9.0</td>\n",
       "      <td>0.00</td>\n",
       "      <td>2</td>\n",
       "      <td>0</td>\n",
       "      <td>0</td>\n",
       "      <td>30807.02</td>\n",
       "      <td>1.0</td>\n",
       "      <td>0.0</td>\n",
       "      <td>0.0</td>\n",
       "    </tr>\n",
       "    <tr>\n",
       "      <th>5998</th>\n",
       "      <td>612</td>\n",
       "      <td>44</td>\n",
       "      <td>2.0</td>\n",
       "      <td>115163.38</td>\n",
       "      <td>1</td>\n",
       "      <td>1</td>\n",
       "      <td>1</td>\n",
       "      <td>97677.52</td>\n",
       "      <td>1.0</td>\n",
       "      <td>1.0</td>\n",
       "      <td>0.0</td>\n",
       "    </tr>\n",
       "    <tr>\n",
       "      <th>5999</th>\n",
       "      <td>754</td>\n",
       "      <td>19</td>\n",
       "      <td>9.0</td>\n",
       "      <td>0.00</td>\n",
       "      <td>1</td>\n",
       "      <td>1</td>\n",
       "      <td>0</td>\n",
       "      <td>189641.11</td>\n",
       "      <td>0.0</td>\n",
       "      <td>0.0</td>\n",
       "      <td>1.0</td>\n",
       "    </tr>\n",
       "  </tbody>\n",
       "</table>\n",
       "<p>6000 rows × 11 columns</p>\n",
       "</div>"
      ],
      "text/plain": [
       "      CreditScore  Age  Tenure    Balance  NumOfProducts  HasCrCard  \\\n",
       "0             639   38     4.0   81550.94              2          0   \n",
       "1             554   44     NaN   85304.27              1          1   \n",
       "2             714   53     1.0   99141.86              1          1   \n",
       "3             556   61     2.0  117419.35              1          1   \n",
       "4             707   46     7.0  127476.73              2          1   \n",
       "...           ...  ...     ...        ...            ...        ...   \n",
       "5995          592   36    10.0  123187.51              1          0   \n",
       "5996          821   28     8.0       0.00              1          1   \n",
       "5997          707   32     9.0       0.00              2          0   \n",
       "5998          612   44     2.0  115163.38              1          1   \n",
       "5999          754   19     9.0       0.00              1          1   \n",
       "\n",
       "      IsActiveMember  EstimatedSalary  x0_Male  x1_Germany  x1_Spain  \n",
       "0                  1        118974.77      0.0         0.0       0.0  \n",
       "1                  1         58076.52      1.0         0.0       0.0  \n",
       "2                  1         72496.05      1.0         1.0       0.0  \n",
       "3                  1         94153.83      0.0         0.0       0.0  \n",
       "4                  1        146011.55      0.0         0.0       0.0  \n",
       "...              ...              ...      ...         ...       ...  \n",
       "5995               1        146111.35      1.0         1.0       0.0  \n",
       "5996               1         36754.13      0.0         0.0       0.0  \n",
       "5997               0         30807.02      1.0         0.0       0.0  \n",
       "5998               1         97677.52      1.0         1.0       0.0  \n",
       "5999               0        189641.11      0.0         0.0       1.0  \n",
       "\n",
       "[6000 rows x 11 columns]"
      ]
     },
     "execution_count": 16,
     "metadata": {},
     "output_type": "execute_result"
    }
   ],
   "source": [
    "features_train"
   ]
  },
  {
   "cell_type": "code",
   "execution_count": 17,
   "metadata": {},
   "outputs": [],
   "source": [
    "df3 = features_train"
   ]
  },
  {
   "cell_type": "code",
   "execution_count": 18,
   "metadata": {},
   "outputs": [
    {
     "data": {
      "text/html": [
       "<div>\n",
       "<style scoped>\n",
       "    .dataframe tbody tr th:only-of-type {\n",
       "        vertical-align: middle;\n",
       "    }\n",
       "\n",
       "    .dataframe tbody tr th {\n",
       "        vertical-align: top;\n",
       "    }\n",
       "\n",
       "    .dataframe thead th {\n",
       "        text-align: right;\n",
       "    }\n",
       "</style>\n",
       "<table border=\"1\" class=\"dataframe\">\n",
       "  <thead>\n",
       "    <tr style=\"text-align: right;\">\n",
       "      <th></th>\n",
       "      <th>CreditScore</th>\n",
       "      <th>Age</th>\n",
       "      <th>Tenure</th>\n",
       "      <th>Balance</th>\n",
       "      <th>NumOfProducts</th>\n",
       "      <th>HasCrCard</th>\n",
       "      <th>IsActiveMember</th>\n",
       "      <th>EstimatedSalary</th>\n",
       "      <th>x0_Male</th>\n",
       "      <th>x1_Germany</th>\n",
       "      <th>x1_Spain</th>\n",
       "    </tr>\n",
       "  </thead>\n",
       "  <tbody>\n",
       "    <tr>\n",
       "      <th>0</th>\n",
       "      <td>639</td>\n",
       "      <td>38</td>\n",
       "      <td>4.0</td>\n",
       "      <td>81550.94</td>\n",
       "      <td>2</td>\n",
       "      <td>0</td>\n",
       "      <td>1</td>\n",
       "      <td>118974.77</td>\n",
       "      <td>0.0</td>\n",
       "      <td>0.0</td>\n",
       "      <td>0.0</td>\n",
       "    </tr>\n",
       "    <tr>\n",
       "      <th>1</th>\n",
       "      <td>554</td>\n",
       "      <td>44</td>\n",
       "      <td>NaN</td>\n",
       "      <td>85304.27</td>\n",
       "      <td>1</td>\n",
       "      <td>1</td>\n",
       "      <td>1</td>\n",
       "      <td>58076.52</td>\n",
       "      <td>1.0</td>\n",
       "      <td>0.0</td>\n",
       "      <td>0.0</td>\n",
       "    </tr>\n",
       "    <tr>\n",
       "      <th>2</th>\n",
       "      <td>714</td>\n",
       "      <td>53</td>\n",
       "      <td>1.0</td>\n",
       "      <td>99141.86</td>\n",
       "      <td>1</td>\n",
       "      <td>1</td>\n",
       "      <td>1</td>\n",
       "      <td>72496.05</td>\n",
       "      <td>1.0</td>\n",
       "      <td>1.0</td>\n",
       "      <td>0.0</td>\n",
       "    </tr>\n",
       "    <tr>\n",
       "      <th>3</th>\n",
       "      <td>556</td>\n",
       "      <td>61</td>\n",
       "      <td>2.0</td>\n",
       "      <td>117419.35</td>\n",
       "      <td>1</td>\n",
       "      <td>1</td>\n",
       "      <td>1</td>\n",
       "      <td>94153.83</td>\n",
       "      <td>0.0</td>\n",
       "      <td>0.0</td>\n",
       "      <td>0.0</td>\n",
       "    </tr>\n",
       "    <tr>\n",
       "      <th>4</th>\n",
       "      <td>707</td>\n",
       "      <td>46</td>\n",
       "      <td>7.0</td>\n",
       "      <td>127476.73</td>\n",
       "      <td>2</td>\n",
       "      <td>1</td>\n",
       "      <td>1</td>\n",
       "      <td>146011.55</td>\n",
       "      <td>0.0</td>\n",
       "      <td>0.0</td>\n",
       "      <td>0.0</td>\n",
       "    </tr>\n",
       "  </tbody>\n",
       "</table>\n",
       "</div>"
      ],
      "text/plain": [
       "   CreditScore  Age  Tenure    Balance  NumOfProducts  HasCrCard  \\\n",
       "0          639   38     4.0   81550.94              2          0   \n",
       "1          554   44     NaN   85304.27              1          1   \n",
       "2          714   53     1.0   99141.86              1          1   \n",
       "3          556   61     2.0  117419.35              1          1   \n",
       "4          707   46     7.0  127476.73              2          1   \n",
       "\n",
       "   IsActiveMember  EstimatedSalary  x0_Male  x1_Germany  x1_Spain  \n",
       "0               1        118974.77      0.0         0.0       0.0  \n",
       "1               1         58076.52      1.0         0.0       0.0  \n",
       "2               1         72496.05      1.0         1.0       0.0  \n",
       "3               1         94153.83      0.0         0.0       0.0  \n",
       "4               1        146011.55      0.0         0.0       0.0  "
      ]
     },
     "execution_count": 18,
     "metadata": {},
     "output_type": "execute_result"
    }
   ],
   "source": [
    "df3.head(5)"
   ]
  },
  {
   "cell_type": "markdown",
   "metadata": {},
   "source": [
    "Теперь нужно решить проблему с пропущенными значениями в Tenure"
   ]
  },
  {
   "cell_type": "code",
   "execution_count": 19,
   "metadata": {},
   "outputs": [
    {
     "name": "stdout",
     "output_type": "stream",
     "text": [
      "<class 'pandas.core.frame.DataFrame'>\n",
      "RangeIndex: 6000 entries, 0 to 5999\n",
      "Data columns (total 11 columns):\n",
      " #   Column           Non-Null Count  Dtype  \n",
      "---  ------           --------------  -----  \n",
      " 0   CreditScore      6000 non-null   int64  \n",
      " 1   Age              6000 non-null   int64  \n",
      " 2   Tenure           5430 non-null   float64\n",
      " 3   Balance          6000 non-null   float64\n",
      " 4   NumOfProducts    6000 non-null   int64  \n",
      " 5   HasCrCard        6000 non-null   int64  \n",
      " 6   IsActiveMember   6000 non-null   int64  \n",
      " 7   EstimatedSalary  6000 non-null   float64\n",
      " 8   x0_Male          6000 non-null   float64\n",
      " 9   x1_Germany       6000 non-null   float64\n",
      " 10  x1_Spain         6000 non-null   float64\n",
      "dtypes: float64(6), int64(5)\n",
      "memory usage: 515.8 KB\n"
     ]
    }
   ],
   "source": [
    "df3.info()"
   ]
  },
  {
   "cell_type": "code",
   "execution_count": 20,
   "metadata": {},
   "outputs": [],
   "source": [
    "df3['Tenure'] = df3['Tenure'].fillna(99)"
   ]
  },
  {
   "cell_type": "markdown",
   "metadata": {},
   "source": [
    "Посмотрим, насколько отличаются остальные переменные, в зависимости от \"стажа\" клиента (Tenure)"
   ]
  },
  {
   "cell_type": "code",
   "execution_count": 21,
   "metadata": {},
   "outputs": [
    {
     "data": {
      "text/html": [
       "<div>\n",
       "<style scoped>\n",
       "    .dataframe tbody tr th:only-of-type {\n",
       "        vertical-align: middle;\n",
       "    }\n",
       "\n",
       "    .dataframe tbody tr th {\n",
       "        vertical-align: top;\n",
       "    }\n",
       "\n",
       "    .dataframe thead th {\n",
       "        text-align: right;\n",
       "    }\n",
       "</style>\n",
       "<table border=\"1\" class=\"dataframe\">\n",
       "  <thead>\n",
       "    <tr style=\"text-align: right;\">\n",
       "      <th></th>\n",
       "      <th>Age</th>\n",
       "      <th>Balance</th>\n",
       "      <th>CreditScore</th>\n",
       "      <th>EstimatedSalary</th>\n",
       "      <th>HasCrCard</th>\n",
       "      <th>IsActiveMember</th>\n",
       "      <th>NumOfProducts</th>\n",
       "      <th>x0_Male</th>\n",
       "      <th>x1_Germany</th>\n",
       "      <th>x1_Spain</th>\n",
       "    </tr>\n",
       "    <tr>\n",
       "      <th>Tenure</th>\n",
       "      <th></th>\n",
       "      <th></th>\n",
       "      <th></th>\n",
       "      <th></th>\n",
       "      <th></th>\n",
       "      <th></th>\n",
       "      <th></th>\n",
       "      <th></th>\n",
       "      <th></th>\n",
       "      <th></th>\n",
       "    </tr>\n",
       "  </thead>\n",
       "  <tbody>\n",
       "    <tr>\n",
       "      <th>0.0</th>\n",
       "      <td>39.416667</td>\n",
       "      <td>82394.478860</td>\n",
       "      <td>656.859649</td>\n",
       "      <td>94639.227719</td>\n",
       "      <td>0.627193</td>\n",
       "      <td>0.552632</td>\n",
       "      <td>1.421053</td>\n",
       "      <td>0.517544</td>\n",
       "      <td>0.280702</td>\n",
       "      <td>0.280702</td>\n",
       "    </tr>\n",
       "    <tr>\n",
       "      <th>1.0</th>\n",
       "      <td>39.465969</td>\n",
       "      <td>78215.368307</td>\n",
       "      <td>651.329843</td>\n",
       "      <td>102287.567766</td>\n",
       "      <td>0.650960</td>\n",
       "      <td>0.570681</td>\n",
       "      <td>1.483421</td>\n",
       "      <td>0.525305</td>\n",
       "      <td>0.273997</td>\n",
       "      <td>0.223386</td>\n",
       "    </tr>\n",
       "    <tr>\n",
       "      <th>2.0</th>\n",
       "      <td>39.071942</td>\n",
       "      <td>75622.765935</td>\n",
       "      <td>658.615108</td>\n",
       "      <td>98856.206241</td>\n",
       "      <td>0.712230</td>\n",
       "      <td>0.544964</td>\n",
       "      <td>1.582734</td>\n",
       "      <td>0.570144</td>\n",
       "      <td>0.255396</td>\n",
       "      <td>0.253597</td>\n",
       "    </tr>\n",
       "    <tr>\n",
       "      <th>3.0</th>\n",
       "      <td>39.304587</td>\n",
       "      <td>80307.370440</td>\n",
       "      <td>649.682569</td>\n",
       "      <td>96474.104697</td>\n",
       "      <td>0.706422</td>\n",
       "      <td>0.506422</td>\n",
       "      <td>1.519266</td>\n",
       "      <td>0.548624</td>\n",
       "      <td>0.262385</td>\n",
       "      <td>0.258716</td>\n",
       "    </tr>\n",
       "    <tr>\n",
       "      <th>4.0</th>\n",
       "      <td>37.710280</td>\n",
       "      <td>74141.201757</td>\n",
       "      <td>652.044860</td>\n",
       "      <td>99700.991159</td>\n",
       "      <td>0.710280</td>\n",
       "      <td>0.517757</td>\n",
       "      <td>1.491589</td>\n",
       "      <td>0.547664</td>\n",
       "      <td>0.241121</td>\n",
       "      <td>0.250467</td>\n",
       "    </tr>\n",
       "    <tr>\n",
       "      <th>5.0</th>\n",
       "      <td>38.740809</td>\n",
       "      <td>76609.687316</td>\n",
       "      <td>651.511029</td>\n",
       "      <td>100927.594412</td>\n",
       "      <td>0.711397</td>\n",
       "      <td>0.514706</td>\n",
       "      <td>1.566176</td>\n",
       "      <td>0.553309</td>\n",
       "      <td>0.257353</td>\n",
       "      <td>0.268382</td>\n",
       "    </tr>\n",
       "    <tr>\n",
       "      <th>6.0</th>\n",
       "      <td>38.680233</td>\n",
       "      <td>77849.624264</td>\n",
       "      <td>646.000000</td>\n",
       "      <td>101147.961589</td>\n",
       "      <td>0.728682</td>\n",
       "      <td>0.500000</td>\n",
       "      <td>1.503876</td>\n",
       "      <td>0.515504</td>\n",
       "      <td>0.238372</td>\n",
       "      <td>0.248062</td>\n",
       "    </tr>\n",
       "    <tr>\n",
       "      <th>7.0</th>\n",
       "      <td>38.062385</td>\n",
       "      <td>75110.540440</td>\n",
       "      <td>651.238532</td>\n",
       "      <td>102455.425633</td>\n",
       "      <td>0.700917</td>\n",
       "      <td>0.502752</td>\n",
       "      <td>1.532110</td>\n",
       "      <td>0.563303</td>\n",
       "      <td>0.214679</td>\n",
       "      <td>0.227523</td>\n",
       "    </tr>\n",
       "    <tr>\n",
       "      <th>8.0</th>\n",
       "      <td>38.730241</td>\n",
       "      <td>75754.273058</td>\n",
       "      <td>648.570447</td>\n",
       "      <td>100637.151907</td>\n",
       "      <td>0.747423</td>\n",
       "      <td>0.501718</td>\n",
       "      <td>1.522337</td>\n",
       "      <td>0.577320</td>\n",
       "      <td>0.252577</td>\n",
       "      <td>0.278351</td>\n",
       "    </tr>\n",
       "    <tr>\n",
       "      <th>9.0</th>\n",
       "      <td>39.646067</td>\n",
       "      <td>75162.390131</td>\n",
       "      <td>659.093633</td>\n",
       "      <td>98589.519757</td>\n",
       "      <td>0.717228</td>\n",
       "      <td>0.471910</td>\n",
       "      <td>1.529963</td>\n",
       "      <td>0.578652</td>\n",
       "      <td>0.264045</td>\n",
       "      <td>0.228464</td>\n",
       "    </tr>\n",
       "    <tr>\n",
       "      <th>10.0</th>\n",
       "      <td>38.970588</td>\n",
       "      <td>73842.076434</td>\n",
       "      <td>654.158088</td>\n",
       "      <td>106035.577353</td>\n",
       "      <td>0.691176</td>\n",
       "      <td>0.514706</td>\n",
       "      <td>1.547794</td>\n",
       "      <td>0.525735</td>\n",
       "      <td>0.235294</td>\n",
       "      <td>0.231618</td>\n",
       "    </tr>\n",
       "    <tr>\n",
       "      <th>99.0</th>\n",
       "      <td>38.415789</td>\n",
       "      <td>78337.605246</td>\n",
       "      <td>648.859649</td>\n",
       "      <td>97239.931018</td>\n",
       "      <td>0.717544</td>\n",
       "      <td>0.510526</td>\n",
       "      <td>1.531579</td>\n",
       "      <td>0.533333</td>\n",
       "      <td>0.245614</td>\n",
       "      <td>0.254386</td>\n",
       "    </tr>\n",
       "  </tbody>\n",
       "</table>\n",
       "</div>"
      ],
      "text/plain": [
       "              Age       Balance  CreditScore  EstimatedSalary  HasCrCard  \\\n",
       "Tenure                                                                     \n",
       "0.0     39.416667  82394.478860   656.859649     94639.227719   0.627193   \n",
       "1.0     39.465969  78215.368307   651.329843    102287.567766   0.650960   \n",
       "2.0     39.071942  75622.765935   658.615108     98856.206241   0.712230   \n",
       "3.0     39.304587  80307.370440   649.682569     96474.104697   0.706422   \n",
       "4.0     37.710280  74141.201757   652.044860     99700.991159   0.710280   \n",
       "5.0     38.740809  76609.687316   651.511029    100927.594412   0.711397   \n",
       "6.0     38.680233  77849.624264   646.000000    101147.961589   0.728682   \n",
       "7.0     38.062385  75110.540440   651.238532    102455.425633   0.700917   \n",
       "8.0     38.730241  75754.273058   648.570447    100637.151907   0.747423   \n",
       "9.0     39.646067  75162.390131   659.093633     98589.519757   0.717228   \n",
       "10.0    38.970588  73842.076434   654.158088    106035.577353   0.691176   \n",
       "99.0    38.415789  78337.605246   648.859649     97239.931018   0.717544   \n",
       "\n",
       "        IsActiveMember  NumOfProducts   x0_Male  x1_Germany  x1_Spain  \n",
       "Tenure                                                                 \n",
       "0.0           0.552632       1.421053  0.517544    0.280702  0.280702  \n",
       "1.0           0.570681       1.483421  0.525305    0.273997  0.223386  \n",
       "2.0           0.544964       1.582734  0.570144    0.255396  0.253597  \n",
       "3.0           0.506422       1.519266  0.548624    0.262385  0.258716  \n",
       "4.0           0.517757       1.491589  0.547664    0.241121  0.250467  \n",
       "5.0           0.514706       1.566176  0.553309    0.257353  0.268382  \n",
       "6.0           0.500000       1.503876  0.515504    0.238372  0.248062  \n",
       "7.0           0.502752       1.532110  0.563303    0.214679  0.227523  \n",
       "8.0           0.501718       1.522337  0.577320    0.252577  0.278351  \n",
       "9.0           0.471910       1.529963  0.578652    0.264045  0.228464  \n",
       "10.0          0.514706       1.547794  0.525735    0.235294  0.231618  \n",
       "99.0          0.510526       1.531579  0.533333    0.245614  0.254386  "
      ]
     },
     "execution_count": 21,
     "metadata": {},
     "output_type": "execute_result"
    }
   ],
   "source": [
    "df3.pivot_table(index='Tenure', values=['CreditScore','Age','Balance','NumOfProducts','HasCrCard','IsActiveMember','EstimatedSalary','x0_Male','x1_Germany','x1_Spain'], aggfunc = 'mean')"
   ]
  },
  {
   "cell_type": "markdown",
   "metadata": {},
   "source": [
    "Вывод: значимых отличий в зависимости от группы нет. Кроме того отличия в группе, где значение Tenure пропущено - также незначимы.\n",
    "Поэтому мы можем пропущенные значения в группе Tenure заменить на среднее."
   ]
  },
  {
   "cell_type": "code",
   "execution_count": 22,
   "metadata": {},
   "outputs": [],
   "source": [
    "features_train['Tenure'] = features_train['Tenure'].fillna(features_train['Tenure'].mean())"
   ]
  },
  {
   "cell_type": "code",
   "execution_count": 23,
   "metadata": {},
   "outputs": [
    {
     "name": "stdout",
     "output_type": "stream",
     "text": [
      "<class 'pandas.core.frame.DataFrame'>\n",
      "RangeIndex: 6000 entries, 0 to 5999\n",
      "Data columns (total 11 columns):\n",
      " #   Column           Non-Null Count  Dtype  \n",
      "---  ------           --------------  -----  \n",
      " 0   CreditScore      6000 non-null   int64  \n",
      " 1   Age              6000 non-null   int64  \n",
      " 2   Tenure           6000 non-null   float64\n",
      " 3   Balance          6000 non-null   float64\n",
      " 4   NumOfProducts    6000 non-null   int64  \n",
      " 5   HasCrCard        6000 non-null   int64  \n",
      " 6   IsActiveMember   6000 non-null   int64  \n",
      " 7   EstimatedSalary  6000 non-null   float64\n",
      " 8   x0_Male          6000 non-null   float64\n",
      " 9   x1_Germany       6000 non-null   float64\n",
      " 10  x1_Spain         6000 non-null   float64\n",
      "dtypes: float64(6), int64(5)\n",
      "memory usage: 515.8 KB\n"
     ]
    }
   ],
   "source": [
    "features_train.info()"
   ]
  },
  {
   "cell_type": "code",
   "execution_count": null,
   "metadata": {},
   "outputs": [],
   "source": []
  },
  {
   "cell_type": "markdown",
   "metadata": {},
   "source": [
    "Features Valid - преобразование и заполнение пропущенных значений"
   ]
  },
  {
   "cell_type": "code",
   "execution_count": 24,
   "metadata": {},
   "outputs": [],
   "source": [
    "encoded_FV = encoder.transform(features_valid[['Gender','Geography']])\n",
    "encoded_FV_array = encoded_FV.toarray()\n",
    "encoded_varsFV = pd.DataFrame(encoded_FV.toarray(), columns=encoder.get_feature_names())\n",
    "features_valid = features_valid.reset_index()\n",
    "features_valid = pd.concat([features_valid, encoded_varsFV], axis=1)\n",
    "features_valid = features_valid.drop(['index','RowNumber','CustomerId','Surname','Geography','Gender'],axis=1)"
   ]
  },
  {
   "cell_type": "code",
   "execution_count": 25,
   "metadata": {},
   "outputs": [],
   "source": [
    "features_valid['Tenure'] = features_valid['Tenure'].fillna(features_valid['Tenure'].mean())"
   ]
  },
  {
   "cell_type": "code",
   "execution_count": null,
   "metadata": {},
   "outputs": [],
   "source": []
  },
  {
   "cell_type": "markdown",
   "metadata": {},
   "source": [
    "Features Test - преобразование и заполнение пропущенных значений"
   ]
  },
  {
   "cell_type": "code",
   "execution_count": 26,
   "metadata": {},
   "outputs": [],
   "source": [
    "encoded_FTe = encoder.transform(features_test[['Gender','Geography']])\n",
    "encoded_FTe_array = encoded_FTe.toarray()\n",
    "encoded_varsFTe = pd.DataFrame(encoded_FTe.toarray(), columns=encoder.get_feature_names())\n",
    "features_test = features_test.reset_index()\n",
    "features_test = pd.concat([features_test, encoded_varsFTe], axis=1)\n",
    "features_test = features_test.drop(['index','RowNumber','CustomerId','Surname','Geography','Gender'],axis=1)"
   ]
  },
  {
   "cell_type": "code",
   "execution_count": 27,
   "metadata": {},
   "outputs": [],
   "source": [
    "features_test['Tenure'] = features_test['Tenure'].fillna(features_test['Tenure'].mean())"
   ]
  },
  {
   "cell_type": "code",
   "execution_count": null,
   "metadata": {},
   "outputs": [],
   "source": []
  },
  {
   "cell_type": "code",
   "execution_count": 28,
   "metadata": {},
   "outputs": [
    {
     "data": {
      "text/plain": [
       "6000"
      ]
     },
     "execution_count": 28,
     "metadata": {},
     "output_type": "execute_result"
    }
   ],
   "source": [
    "len(features_train)"
   ]
  },
  {
   "cell_type": "code",
   "execution_count": 29,
   "metadata": {},
   "outputs": [
    {
     "data": {
      "text/plain": [
       "2000"
      ]
     },
     "execution_count": 29,
     "metadata": {},
     "output_type": "execute_result"
    }
   ],
   "source": [
    "len(features_valid)"
   ]
  },
  {
   "cell_type": "code",
   "execution_count": 30,
   "metadata": {},
   "outputs": [
    {
     "data": {
      "text/plain": [
       "2000"
      ]
     },
     "execution_count": 30,
     "metadata": {},
     "output_type": "execute_result"
    }
   ],
   "source": [
    "len(features_test)"
   ]
  },
  {
   "cell_type": "code",
   "execution_count": 31,
   "metadata": {},
   "outputs": [],
   "source": [
    "#features_train, target_train, features_valid, target_valid, features_test, target_test = train_valid_test_split(df3, target ='Exited', train_size = 0.6, valid_size = 0.2, test_size = 0.2)"
   ]
  },
  {
   "cell_type": "code",
   "execution_count": 32,
   "metadata": {},
   "outputs": [
    {
     "data": {
      "text/html": [
       "<div>\n",
       "<style scoped>\n",
       "    .dataframe tbody tr th:only-of-type {\n",
       "        vertical-align: middle;\n",
       "    }\n",
       "\n",
       "    .dataframe tbody tr th {\n",
       "        vertical-align: top;\n",
       "    }\n",
       "\n",
       "    .dataframe thead th {\n",
       "        text-align: right;\n",
       "    }\n",
       "</style>\n",
       "<table border=\"1\" class=\"dataframe\">\n",
       "  <thead>\n",
       "    <tr style=\"text-align: right;\">\n",
       "      <th></th>\n",
       "      <th>CreditScore</th>\n",
       "      <th>Age</th>\n",
       "      <th>Tenure</th>\n",
       "      <th>Balance</th>\n",
       "      <th>NumOfProducts</th>\n",
       "      <th>HasCrCard</th>\n",
       "      <th>IsActiveMember</th>\n",
       "      <th>EstimatedSalary</th>\n",
       "      <th>x0_Male</th>\n",
       "      <th>x1_Germany</th>\n",
       "      <th>x1_Spain</th>\n",
       "    </tr>\n",
       "  </thead>\n",
       "  <tbody>\n",
       "    <tr>\n",
       "      <th>0</th>\n",
       "      <td>639</td>\n",
       "      <td>38</td>\n",
       "      <td>4.0</td>\n",
       "      <td>81550.94</td>\n",
       "      <td>2</td>\n",
       "      <td>0</td>\n",
       "      <td>1</td>\n",
       "      <td>118974.77</td>\n",
       "      <td>0.0</td>\n",
       "      <td>0.0</td>\n",
       "      <td>0.0</td>\n",
       "    </tr>\n",
       "    <tr>\n",
       "      <th>1</th>\n",
       "      <td>554</td>\n",
       "      <td>44</td>\n",
       "      <td>99.0</td>\n",
       "      <td>85304.27</td>\n",
       "      <td>1</td>\n",
       "      <td>1</td>\n",
       "      <td>1</td>\n",
       "      <td>58076.52</td>\n",
       "      <td>1.0</td>\n",
       "      <td>0.0</td>\n",
       "      <td>0.0</td>\n",
       "    </tr>\n",
       "    <tr>\n",
       "      <th>2</th>\n",
       "      <td>714</td>\n",
       "      <td>53</td>\n",
       "      <td>1.0</td>\n",
       "      <td>99141.86</td>\n",
       "      <td>1</td>\n",
       "      <td>1</td>\n",
       "      <td>1</td>\n",
       "      <td>72496.05</td>\n",
       "      <td>1.0</td>\n",
       "      <td>1.0</td>\n",
       "      <td>0.0</td>\n",
       "    </tr>\n",
       "    <tr>\n",
       "      <th>3</th>\n",
       "      <td>556</td>\n",
       "      <td>61</td>\n",
       "      <td>2.0</td>\n",
       "      <td>117419.35</td>\n",
       "      <td>1</td>\n",
       "      <td>1</td>\n",
       "      <td>1</td>\n",
       "      <td>94153.83</td>\n",
       "      <td>0.0</td>\n",
       "      <td>0.0</td>\n",
       "      <td>0.0</td>\n",
       "    </tr>\n",
       "    <tr>\n",
       "      <th>4</th>\n",
       "      <td>707</td>\n",
       "      <td>46</td>\n",
       "      <td>7.0</td>\n",
       "      <td>127476.73</td>\n",
       "      <td>2</td>\n",
       "      <td>1</td>\n",
       "      <td>1</td>\n",
       "      <td>146011.55</td>\n",
       "      <td>0.0</td>\n",
       "      <td>0.0</td>\n",
       "      <td>0.0</td>\n",
       "    </tr>\n",
       "    <tr>\n",
       "      <th>...</th>\n",
       "      <td>...</td>\n",
       "      <td>...</td>\n",
       "      <td>...</td>\n",
       "      <td>...</td>\n",
       "      <td>...</td>\n",
       "      <td>...</td>\n",
       "      <td>...</td>\n",
       "      <td>...</td>\n",
       "      <td>...</td>\n",
       "      <td>...</td>\n",
       "      <td>...</td>\n",
       "    </tr>\n",
       "    <tr>\n",
       "      <th>5995</th>\n",
       "      <td>592</td>\n",
       "      <td>36</td>\n",
       "      <td>10.0</td>\n",
       "      <td>123187.51</td>\n",
       "      <td>1</td>\n",
       "      <td>0</td>\n",
       "      <td>1</td>\n",
       "      <td>146111.35</td>\n",
       "      <td>1.0</td>\n",
       "      <td>1.0</td>\n",
       "      <td>0.0</td>\n",
       "    </tr>\n",
       "    <tr>\n",
       "      <th>5996</th>\n",
       "      <td>821</td>\n",
       "      <td>28</td>\n",
       "      <td>8.0</td>\n",
       "      <td>0.00</td>\n",
       "      <td>1</td>\n",
       "      <td>1</td>\n",
       "      <td>1</td>\n",
       "      <td>36754.13</td>\n",
       "      <td>0.0</td>\n",
       "      <td>0.0</td>\n",
       "      <td>0.0</td>\n",
       "    </tr>\n",
       "    <tr>\n",
       "      <th>5997</th>\n",
       "      <td>707</td>\n",
       "      <td>32</td>\n",
       "      <td>9.0</td>\n",
       "      <td>0.00</td>\n",
       "      <td>2</td>\n",
       "      <td>0</td>\n",
       "      <td>0</td>\n",
       "      <td>30807.02</td>\n",
       "      <td>1.0</td>\n",
       "      <td>0.0</td>\n",
       "      <td>0.0</td>\n",
       "    </tr>\n",
       "    <tr>\n",
       "      <th>5998</th>\n",
       "      <td>612</td>\n",
       "      <td>44</td>\n",
       "      <td>2.0</td>\n",
       "      <td>115163.38</td>\n",
       "      <td>1</td>\n",
       "      <td>1</td>\n",
       "      <td>1</td>\n",
       "      <td>97677.52</td>\n",
       "      <td>1.0</td>\n",
       "      <td>1.0</td>\n",
       "      <td>0.0</td>\n",
       "    </tr>\n",
       "    <tr>\n",
       "      <th>5999</th>\n",
       "      <td>754</td>\n",
       "      <td>19</td>\n",
       "      <td>9.0</td>\n",
       "      <td>0.00</td>\n",
       "      <td>1</td>\n",
       "      <td>1</td>\n",
       "      <td>0</td>\n",
       "      <td>189641.11</td>\n",
       "      <td>0.0</td>\n",
       "      <td>0.0</td>\n",
       "      <td>1.0</td>\n",
       "    </tr>\n",
       "  </tbody>\n",
       "</table>\n",
       "<p>6000 rows × 11 columns</p>\n",
       "</div>"
      ],
      "text/plain": [
       "      CreditScore  Age  Tenure    Balance  NumOfProducts  HasCrCard  \\\n",
       "0             639   38     4.0   81550.94              2          0   \n",
       "1             554   44    99.0   85304.27              1          1   \n",
       "2             714   53     1.0   99141.86              1          1   \n",
       "3             556   61     2.0  117419.35              1          1   \n",
       "4             707   46     7.0  127476.73              2          1   \n",
       "...           ...  ...     ...        ...            ...        ...   \n",
       "5995          592   36    10.0  123187.51              1          0   \n",
       "5996          821   28     8.0       0.00              1          1   \n",
       "5997          707   32     9.0       0.00              2          0   \n",
       "5998          612   44     2.0  115163.38              1          1   \n",
       "5999          754   19     9.0       0.00              1          1   \n",
       "\n",
       "      IsActiveMember  EstimatedSalary  x0_Male  x1_Germany  x1_Spain  \n",
       "0                  1        118974.77      0.0         0.0       0.0  \n",
       "1                  1         58076.52      1.0         0.0       0.0  \n",
       "2                  1         72496.05      1.0         1.0       0.0  \n",
       "3                  1         94153.83      0.0         0.0       0.0  \n",
       "4                  1        146011.55      0.0         0.0       0.0  \n",
       "...              ...              ...      ...         ...       ...  \n",
       "5995               1        146111.35      1.0         1.0       0.0  \n",
       "5996               1         36754.13      0.0         0.0       0.0  \n",
       "5997               0         30807.02      1.0         0.0       0.0  \n",
       "5998               1         97677.52      1.0         1.0       0.0  \n",
       "5999               0        189641.11      0.0         0.0       1.0  \n",
       "\n",
       "[6000 rows x 11 columns]"
      ]
     },
     "execution_count": 32,
     "metadata": {},
     "output_type": "execute_result"
    }
   ],
   "source": [
    "features_train"
   ]
  },
  {
   "cell_type": "code",
   "execution_count": null,
   "metadata": {},
   "outputs": [],
   "source": []
  },
  {
   "cell_type": "markdown",
   "metadata": {},
   "source": [
    "Сделаем масштабирование признаков"
   ]
  },
  {
   "cell_type": "code",
   "execution_count": 33,
   "metadata": {},
   "outputs": [],
   "source": [
    "numeric = ['CreditScore', 'Age', 'Tenure', 'Balance','NumOfProducts','EstimatedSalary']\n",
    "\n",
    "scaler = StandardScaler()\n",
    "scaler.fit(features_train[numeric])\n",
    "features_train[numeric] = scaler.transform(features_train[numeric])\n",
    "features_valid[numeric] = scaler.transform(features_valid[numeric])\n",
    "features_test[numeric] = scaler.transform(features_test[numeric])"
   ]
  },
  {
   "cell_type": "code",
   "execution_count": 34,
   "metadata": {},
   "outputs": [
    {
     "data": {
      "text/html": [
       "<div>\n",
       "<style scoped>\n",
       "    .dataframe tbody tr th:only-of-type {\n",
       "        vertical-align: middle;\n",
       "    }\n",
       "\n",
       "    .dataframe tbody tr th {\n",
       "        vertical-align: top;\n",
       "    }\n",
       "\n",
       "    .dataframe thead th {\n",
       "        text-align: right;\n",
       "    }\n",
       "</style>\n",
       "<table border=\"1\" class=\"dataframe\">\n",
       "  <thead>\n",
       "    <tr style=\"text-align: right;\">\n",
       "      <th></th>\n",
       "      <th>CreditScore</th>\n",
       "      <th>Age</th>\n",
       "      <th>Tenure</th>\n",
       "      <th>Balance</th>\n",
       "      <th>NumOfProducts</th>\n",
       "      <th>HasCrCard</th>\n",
       "      <th>IsActiveMember</th>\n",
       "      <th>EstimatedSalary</th>\n",
       "      <th>x0_Male</th>\n",
       "      <th>x1_Germany</th>\n",
       "      <th>x1_Spain</th>\n",
       "    </tr>\n",
       "  </thead>\n",
       "  <tbody>\n",
       "    <tr>\n",
       "      <th>0</th>\n",
       "      <td>-0.134048</td>\n",
       "      <td>-0.078068</td>\n",
       "      <td>-0.359303</td>\n",
       "      <td>0.076163</td>\n",
       "      <td>0.816929</td>\n",
       "      <td>0</td>\n",
       "      <td>1</td>\n",
       "      <td>0.331571</td>\n",
       "      <td>0.0</td>\n",
       "      <td>0.0</td>\n",
       "      <td>0.0</td>\n",
       "    </tr>\n",
       "    <tr>\n",
       "      <th>1</th>\n",
       "      <td>-1.010798</td>\n",
       "      <td>0.494555</td>\n",
       "      <td>3.071054</td>\n",
       "      <td>0.136391</td>\n",
       "      <td>-0.896909</td>\n",
       "      <td>1</td>\n",
       "      <td>1</td>\n",
       "      <td>-0.727858</td>\n",
       "      <td>1.0</td>\n",
       "      <td>0.0</td>\n",
       "      <td>0.0</td>\n",
       "    </tr>\n",
       "    <tr>\n",
       "      <th>2</th>\n",
       "      <td>0.639554</td>\n",
       "      <td>1.353490</td>\n",
       "      <td>-0.467630</td>\n",
       "      <td>0.358435</td>\n",
       "      <td>-0.896909</td>\n",
       "      <td>1</td>\n",
       "      <td>1</td>\n",
       "      <td>-0.477006</td>\n",
       "      <td>1.0</td>\n",
       "      <td>1.0</td>\n",
       "      <td>0.0</td>\n",
       "    </tr>\n",
       "    <tr>\n",
       "      <th>3</th>\n",
       "      <td>-0.990168</td>\n",
       "      <td>2.116987</td>\n",
       "      <td>-0.431521</td>\n",
       "      <td>0.651725</td>\n",
       "      <td>-0.896909</td>\n",
       "      <td>1</td>\n",
       "      <td>1</td>\n",
       "      <td>-0.100232</td>\n",
       "      <td>0.0</td>\n",
       "      <td>0.0</td>\n",
       "      <td>0.0</td>\n",
       "    </tr>\n",
       "    <tr>\n",
       "      <th>4</th>\n",
       "      <td>0.567351</td>\n",
       "      <td>0.685430</td>\n",
       "      <td>-0.250976</td>\n",
       "      <td>0.813110</td>\n",
       "      <td>0.816929</td>\n",
       "      <td>1</td>\n",
       "      <td>1</td>\n",
       "      <td>0.801922</td>\n",
       "      <td>0.0</td>\n",
       "      <td>0.0</td>\n",
       "      <td>0.0</td>\n",
       "    </tr>\n",
       "    <tr>\n",
       "      <th>...</th>\n",
       "      <td>...</td>\n",
       "      <td>...</td>\n",
       "      <td>...</td>\n",
       "      <td>...</td>\n",
       "      <td>...</td>\n",
       "      <td>...</td>\n",
       "      <td>...</td>\n",
       "      <td>...</td>\n",
       "      <td>...</td>\n",
       "      <td>...</td>\n",
       "      <td>...</td>\n",
       "    </tr>\n",
       "    <tr>\n",
       "      <th>5995</th>\n",
       "      <td>-0.618839</td>\n",
       "      <td>-0.268942</td>\n",
       "      <td>-0.142649</td>\n",
       "      <td>0.744283</td>\n",
       "      <td>-0.896909</td>\n",
       "      <td>0</td>\n",
       "      <td>1</td>\n",
       "      <td>0.803658</td>\n",
       "      <td>1.0</td>\n",
       "      <td>1.0</td>\n",
       "      <td>0.0</td>\n",
       "    </tr>\n",
       "    <tr>\n",
       "      <th>5996</th>\n",
       "      <td>1.743227</td>\n",
       "      <td>-1.032439</td>\n",
       "      <td>-0.214867</td>\n",
       "      <td>-1.232442</td>\n",
       "      <td>-0.896909</td>\n",
       "      <td>1</td>\n",
       "      <td>1</td>\n",
       "      <td>-1.098797</td>\n",
       "      <td>0.0</td>\n",
       "      <td>0.0</td>\n",
       "      <td>0.0</td>\n",
       "    </tr>\n",
       "    <tr>\n",
       "      <th>5997</th>\n",
       "      <td>0.567351</td>\n",
       "      <td>-0.650691</td>\n",
       "      <td>-0.178758</td>\n",
       "      <td>-1.232442</td>\n",
       "      <td>0.816929</td>\n",
       "      <td>0</td>\n",
       "      <td>0</td>\n",
       "      <td>-1.202257</td>\n",
       "      <td>1.0</td>\n",
       "      <td>0.0</td>\n",
       "      <td>0.0</td>\n",
       "    </tr>\n",
       "    <tr>\n",
       "      <th>5998</th>\n",
       "      <td>-0.412545</td>\n",
       "      <td>0.494555</td>\n",
       "      <td>-0.431521</td>\n",
       "      <td>0.615524</td>\n",
       "      <td>-0.896909</td>\n",
       "      <td>1</td>\n",
       "      <td>1</td>\n",
       "      <td>-0.038931</td>\n",
       "      <td>1.0</td>\n",
       "      <td>1.0</td>\n",
       "      <td>0.0</td>\n",
       "    </tr>\n",
       "    <tr>\n",
       "      <th>5999</th>\n",
       "      <td>1.052142</td>\n",
       "      <td>-1.891374</td>\n",
       "      <td>-0.178758</td>\n",
       "      <td>-1.232442</td>\n",
       "      <td>-0.896909</td>\n",
       "      <td>1</td>\n",
       "      <td>0</td>\n",
       "      <td>1.560932</td>\n",
       "      <td>0.0</td>\n",
       "      <td>0.0</td>\n",
       "      <td>1.0</td>\n",
       "    </tr>\n",
       "  </tbody>\n",
       "</table>\n",
       "<p>6000 rows × 11 columns</p>\n",
       "</div>"
      ],
      "text/plain": [
       "      CreditScore       Age    Tenure   Balance  NumOfProducts  HasCrCard  \\\n",
       "0       -0.134048 -0.078068 -0.359303  0.076163       0.816929          0   \n",
       "1       -1.010798  0.494555  3.071054  0.136391      -0.896909          1   \n",
       "2        0.639554  1.353490 -0.467630  0.358435      -0.896909          1   \n",
       "3       -0.990168  2.116987 -0.431521  0.651725      -0.896909          1   \n",
       "4        0.567351  0.685430 -0.250976  0.813110       0.816929          1   \n",
       "...           ...       ...       ...       ...            ...        ...   \n",
       "5995    -0.618839 -0.268942 -0.142649  0.744283      -0.896909          0   \n",
       "5996     1.743227 -1.032439 -0.214867 -1.232442      -0.896909          1   \n",
       "5997     0.567351 -0.650691 -0.178758 -1.232442       0.816929          0   \n",
       "5998    -0.412545  0.494555 -0.431521  0.615524      -0.896909          1   \n",
       "5999     1.052142 -1.891374 -0.178758 -1.232442      -0.896909          1   \n",
       "\n",
       "      IsActiveMember  EstimatedSalary  x0_Male  x1_Germany  x1_Spain  \n",
       "0                  1         0.331571      0.0         0.0       0.0  \n",
       "1                  1        -0.727858      1.0         0.0       0.0  \n",
       "2                  1        -0.477006      1.0         1.0       0.0  \n",
       "3                  1        -0.100232      0.0         0.0       0.0  \n",
       "4                  1         0.801922      0.0         0.0       0.0  \n",
       "...              ...              ...      ...         ...       ...  \n",
       "5995               1         0.803658      1.0         1.0       0.0  \n",
       "5996               1        -1.098797      0.0         0.0       0.0  \n",
       "5997               0        -1.202257      1.0         0.0       0.0  \n",
       "5998               1        -0.038931      1.0         1.0       0.0  \n",
       "5999               0         1.560932      0.0         0.0       1.0  \n",
       "\n",
       "[6000 rows x 11 columns]"
      ]
     },
     "execution_count": 34,
     "metadata": {},
     "output_type": "execute_result"
    }
   ],
   "source": [
    "features_train"
   ]
  },
  {
   "cell_type": "code",
   "execution_count": 35,
   "metadata": {},
   "outputs": [
    {
     "data": {
      "text/plain": [
       "0       0\n",
       "1       0\n",
       "2       1\n",
       "3       0\n",
       "4       0\n",
       "       ..\n",
       "5995    0\n",
       "5996    0\n",
       "5997    0\n",
       "5998    1\n",
       "5999    0\n",
       "Name: Exited, Length: 6000, dtype: int64"
      ]
     },
     "execution_count": 35,
     "metadata": {},
     "output_type": "execute_result"
    }
   ],
   "source": [
    "target_train.reset_index(drop = True)"
   ]
  },
  {
   "cell_type": "code",
   "execution_count": 36,
   "metadata": {},
   "outputs": [
    {
     "data": {
      "text/plain": [
       "0       0\n",
       "1       1\n",
       "2       0\n",
       "3       1\n",
       "4       1\n",
       "       ..\n",
       "1995    0\n",
       "1996    0\n",
       "1997    0\n",
       "1998    0\n",
       "1999    0\n",
       "Name: Exited, Length: 2000, dtype: int64"
      ]
     },
     "execution_count": 36,
     "metadata": {},
     "output_type": "execute_result"
    }
   ],
   "source": [
    "target_valid.reset_index(drop = True)"
   ]
  },
  {
   "cell_type": "code",
   "execution_count": 37,
   "metadata": {},
   "outputs": [
    {
     "data": {
      "text/plain": [
       "0       0\n",
       "1       0\n",
       "2       0\n",
       "3       0\n",
       "4       0\n",
       "       ..\n",
       "1995    0\n",
       "1996    0\n",
       "1997    0\n",
       "1998    0\n",
       "1999    0\n",
       "Name: Exited, Length: 2000, dtype: int64"
      ]
     },
     "execution_count": 37,
     "metadata": {},
     "output_type": "execute_result"
    }
   ],
   "source": [
    "target_test.reset_index(drop = True)"
   ]
  },
  {
   "cell_type": "markdown",
   "metadata": {},
   "source": [
    "Итог предобработки данных: заполнены пропущенные значения в Tenure (заменены средним), категориальные переменные заменены на dummy, проведено масштабирование признаков, данные разделены на обучающую, валидационную и тестовую выборки"
   ]
  },
  {
   "cell_type": "code",
   "execution_count": null,
   "metadata": {},
   "outputs": [],
   "source": []
  },
  {
   "cell_type": "code",
   "execution_count": null,
   "metadata": {},
   "outputs": [],
   "source": []
  },
  {
   "cell_type": "markdown",
   "metadata": {},
   "source": [
    "## Исследование задачи"
   ]
  },
  {
   "cell_type": "markdown",
   "metadata": {},
   "source": [
    "Сначала оценим баланс классов"
   ]
  },
  {
   "cell_type": "code",
   "execution_count": 38,
   "metadata": {},
   "outputs": [
    {
     "data": {
      "text/plain": [
       "0    7963\n",
       "1    2037\n",
       "Name: Exited, dtype: int64"
      ]
     },
     "execution_count": 38,
     "metadata": {},
     "output_type": "execute_result"
    }
   ],
   "source": [
    "df['Exited'].value_counts()"
   ]
  },
  {
   "cell_type": "code",
   "execution_count": 39,
   "metadata": {},
   "outputs": [
    {
     "data": {
      "image/png": "[encoded data removed]",
      "text/plain": [
       "<Figure size 432x288 with 1 Axes>"
      ]
     },
     "metadata": {
      "needs_background": "light"
     },
     "output_type": "display_data"
    }
   ],
   "source": [
    "df['Exited'].hist();"
   ]
  },
  {
   "cell_type": "markdown",
   "metadata": {},
   "source": [
    "Классы несбалансированы. Количество ушедших в 4 раза  меньше не ушедщих."
   ]
  },
  {
   "cell_type": "markdown",
   "metadata": {},
   "source": [
    "Сначала построим модель без учета баланса классов"
   ]
  },
  {
   "cell_type": "markdown",
   "metadata": {},
   "source": [
    "Обучим и протестируем 2 модели: Decision Tree, Random Forest"
   ]
  },
  {
   "cell_type": "markdown",
   "metadata": {},
   "source": [
    "Decision Tree"
   ]
  },
  {
   "cell_type": "code",
   "execution_count": 40,
   "metadata": {},
   "outputs": [
    {
     "name": "stdout",
     "output_type": "stream",
     "text": [
      "F1: 0.5574803149606299\n",
      "roc_auc_score: 0.8256037411046239\n",
      "Параметры лучшей модели: DecisionTreeClassifier(max_depth=7, random_state=12345)\n"
     ]
    }
   ],
   "source": [
    "n = 50\n",
    "best_model = None\n",
    "best_result = 0\n",
    "for depth in range(1, n):\n",
    "    model = DecisionTreeClassifier(class_weight=None, criterion='gini', max_depth=depth,\n",
    "            max_features=None, max_leaf_nodes=None,\n",
    "            min_impurity_decrease=0.0, \n",
    "            min_samples_leaf=1, min_samples_split=2,\n",
    "            min_weight_fraction_leaf=0.0, random_state=12345,\n",
    "            splitter='best')  \n",
    "    model.fit(features_train, target_train)\n",
    "    predicted_valid = model.predict(features_valid)\n",
    "    result = f1_score(target_valid, predicted_valid)\n",
    "    if result > best_result:\n",
    "        best_model_dt1 = model \n",
    "        best_result = result\n",
    "\n",
    "print(\"F1:\", best_result)\n",
    "probabilities_valid = best_model_dt1.predict_proba(features_valid)\n",
    "probabilities_one_valid = probabilities_valid[:, 1]\n",
    "print(\"roc_auc_score:\", roc_auc_score(target_valid, probabilities_one_valid))\n",
    "print(\"Параметры лучшей модели:\", best_model_dt1)"
   ]
  },
  {
   "cell_type": "markdown",
   "metadata": {},
   "source": [
    "Random Forest"
   ]
  },
  {
   "cell_type": "code",
   "execution_count": 41,
   "metadata": {},
   "outputs": [
    {
     "name": "stdout",
     "output_type": "stream",
     "text": [
      "F1: 0.5777080062794349\n",
      "roc_auc_score: 0.8414505045945204\n",
      "Параметры лучшей модели: RandomForestClassifier(max_depth=13, n_estimators=24, random_state=12345)\n"
     ]
    }
   ],
   "source": [
    "n = 30\n",
    "k = 30\n",
    "best_model = None\n",
    "best_result = 0\n",
    "for depth in range(5, k):\n",
    "    for est in range(1, n):\n",
    "        model = RandomForestClassifier(random_state=12345, n_estimators=est, \n",
    "                                       max_depth=depth)\n",
    "        model.fit(features_train, target_train) \n",
    "        predicted_valid = model.predict(features_valid)\n",
    "        result = f1_score(target_valid, predicted_valid)\n",
    "        if result > best_result:\n",
    "            best_model_rf1 = model \n",
    "            best_result = result\n",
    "\n",
    "print(\"F1:\", best_result)\n",
    "probabilities_valid = best_model_rf1.predict_proba(features_valid)\n",
    "probabilities_one_valid = probabilities_valid[:, 1]\n",
    "print(\"roc_auc_score:\", roc_auc_score(target_valid, probabilities_one_valid))\n",
    "print(\"Параметры лучшей модели:\", best_model_rf1)"
   ]
  },
  {
   "cell_type": "markdown",
   "metadata": {},
   "source": [
    "Вывод:  Random Forest показывает лучшие результаты по F1 и ROC-AUC"
   ]
  },
  {
   "cell_type": "markdown",
   "metadata": {},
   "source": [
    "## Борьба с дисбалансом"
   ]
  },
  {
   "cell_type": "markdown",
   "metadata": {},
   "source": [
    "#### Способ 1 - Взвешивание"
   ]
  },
  {
   "cell_type": "markdown",
   "metadata": {},
   "source": [
    "Decision Tree"
   ]
  },
  {
   "cell_type": "code",
   "execution_count": 42,
   "metadata": {},
   "outputs": [
    {
     "name": "stdout",
     "output_type": "stream",
     "text": [
      "F1: 0.5572441742654509\n",
      "roc_auc_score: 0.8065318326103647\n",
      "Параметры лучшей модели: DecisionTreeClassifier(class_weight='balanced', max_depth=6, random_state=12345)\n"
     ]
    }
   ],
   "source": [
    "n = 50\n",
    "best_model = None\n",
    "best_result = 0\n",
    "for depth in range(1, n):\n",
    "    model = DecisionTreeClassifier(class_weight='balanced', criterion='gini', \n",
    "                                   max_depth=depth,\n",
    "            max_features=None, max_leaf_nodes=None,\n",
    "            min_impurity_decrease=0.0, \n",
    "            min_samples_leaf=1, min_samples_split=2,\n",
    "            min_weight_fraction_leaf=0.0, random_state=12345,\n",
    "            splitter='best')  \n",
    "    model.fit(features_train, target_train)\n",
    "    predicted_valid = model.predict(features_valid)\n",
    "    result = f1_score(target_valid, predicted_valid)\n",
    "    if result > best_result:\n",
    "        best_model_dt2 = model \n",
    "        best_result = result\n",
    "\n",
    "print(\"F1:\", best_result)\n",
    "probabilities_valid = best_model_dt2.predict_proba(features_valid)\n",
    "probabilities_one_valid = probabilities_valid[:, 1]\n",
    "print(\"roc_auc_score:\", roc_auc_score(target_valid, probabilities_one_valid))\n",
    "print(\"Параметры лучшей модели:\", best_model_dt2)"
   ]
  },
  {
   "cell_type": "markdown",
   "metadata": {},
   "source": [
    "Random Forest"
   ]
  },
  {
   "cell_type": "code",
   "execution_count": 43,
   "metadata": {},
   "outputs": [
    {
     "name": "stdout",
     "output_type": "stream",
     "text": [
      "F1: 0.6024096385542169\n",
      "roc_auc_score: 0.8457048666468507\n",
      "Параметры лучшей модели: RandomForestClassifier(class_weight='balanced', max_depth=11, n_estimators=24,\n",
      "                       random_state=12345)\n"
     ]
    }
   ],
   "source": [
    "n = 30\n",
    "k = 30\n",
    "best_model = None\n",
    "best_result = 0\n",
    "for depth in range(5, k):\n",
    "    for est in range(1, n):\n",
    "        model = RandomForestClassifier(class_weight='balanced',random_state=12345, \n",
    "                                       n_estimators=est, max_depth=depth) \n",
    "        model.fit(features_train, target_train) \n",
    "        predicted_valid = model.predict(features_valid)\n",
    "        result = f1_score(target_valid, predicted_valid)\n",
    "        if result > best_result:\n",
    "            best_model_rf2 = model \n",
    "            best_result = result\n",
    "\n",
    "print(\"F1:\", best_result)\n",
    "probabilities_valid = best_model_rf2.predict_proba(features_valid)\n",
    "probabilities_one_valid = probabilities_valid[:, 1]\n",
    "print(\"roc_auc_score:\", roc_auc_score(target_valid, probabilities_one_valid))\n",
    "print(\"Параметры лучшей модели:\", best_model_rf2)"
   ]
  },
  {
   "cell_type": "markdown",
   "metadata": {},
   "source": [
    "#### Способ 2 - Увеличение выборки"
   ]
  },
  {
   "cell_type": "code",
   "execution_count": 44,
   "metadata": {},
   "outputs": [],
   "source": [
    "features_train = features_train.reset_index(drop=True)"
   ]
  },
  {
   "cell_type": "code",
   "execution_count": 45,
   "metadata": {},
   "outputs": [],
   "source": [
    "target_train = target_train.reset_index(drop=True)"
   ]
  },
  {
   "cell_type": "code",
   "execution_count": 46,
   "metadata": {},
   "outputs": [],
   "source": [
    "df4 = pd.concat([features_train, target_train], axis=1)\n",
    "features_train = df4.drop(['Exited'], axis=1)\n",
    "target_train = df4['Exited']"
   ]
  },
  {
   "cell_type": "code",
   "execution_count": 47,
   "metadata": {},
   "outputs": [],
   "source": [
    "def upsample(features_train, target_train, repeat):\n",
    "    features_zeros = features_train[target_train == 0]\n",
    "    features_ones = features_train[target_train == 1]\n",
    "    target_zeros = target_train[target_train == 0]\n",
    "    target_ones = target_train[target_train == 1]\n",
    "    features_upsampled = pd.concat([features_zeros] + [features_ones] * repeat)\n",
    "    target_upsampled = pd.concat([target_zeros] + [target_ones] * repeat)\n",
    "    features_upsampled, target_upsampled = shuffle(features_upsampled, target_upsampled, random_state=12345)\n",
    "    return features_upsampled, target_upsampled"
   ]
  },
  {
   "cell_type": "code",
   "execution_count": 48,
   "metadata": {},
   "outputs": [
    {
     "name": "stdout",
     "output_type": "stream",
     "text": [
      "(9657, 11)\n",
      "(9657,)\n"
     ]
    }
   ],
   "source": [
    "features_upsampled, target_upsampled = upsample(features_train, target_train, 4)\n",
    "\n",
    "print(features_upsampled.shape)\n",
    "print(target_upsampled.shape)"
   ]
  },
  {
   "cell_type": "code",
   "execution_count": 49,
   "metadata": {},
   "outputs": [
    {
     "data": {
      "text/plain": [
       "1    4876\n",
       "0    4781\n",
       "Name: Exited, dtype: int64"
      ]
     },
     "execution_count": 49,
     "metadata": {},
     "output_type": "execute_result"
    }
   ],
   "source": [
    "target_upsampled.value_counts()"
   ]
  },
  {
   "cell_type": "markdown",
   "metadata": {},
   "source": [
    "Decision Tree"
   ]
  },
  {
   "cell_type": "code",
   "execution_count": 50,
   "metadata": {},
   "outputs": [
    {
     "name": "stdout",
     "output_type": "stream",
     "text": [
      "F1: 0.5572441742654509\n",
      "roc_auc_score: 0.8065191164151774\n",
      "Параметры лучшей модели: DecisionTreeClassifier(max_depth=6, random_state=12345)\n"
     ]
    }
   ],
   "source": [
    "n = 50\n",
    "best_model = None\n",
    "best_result = 0\n",
    "for depth in range(1, n):\n",
    "    model = DecisionTreeClassifier(class_weight=None, criterion='gini', \n",
    "                                   max_depth=depth,\n",
    "            max_features=None, max_leaf_nodes=None,\n",
    "            min_impurity_decrease=0.0, \n",
    "            min_samples_leaf=1, min_samples_split=2,\n",
    "            min_weight_fraction_leaf=0.0, random_state=12345,\n",
    "            splitter='best')  \n",
    "    model.fit(features_upsampled, target_upsampled)\n",
    "    predicted_valid = model.predict(features_valid)\n",
    "    result = f1_score(target_valid, predicted_valid)\n",
    "    if result > best_result:\n",
    "        best_model_dt3 = model \n",
    "        best_result = result\n",
    "\n",
    "print(\"F1:\", best_result)\n",
    "probabilities_valid = best_model_dt3.predict_proba(features_valid)\n",
    "probabilities_one_valid = probabilities_valid[:, 1]\n",
    "print(\"roc_auc_score:\", roc_auc_score(target_valid, probabilities_one_valid))\n",
    "print(\"Параметры лучшей модели:\", best_model_dt3)"
   ]
  },
  {
   "cell_type": "markdown",
   "metadata": {},
   "source": [
    "Random Forest"
   ]
  },
  {
   "cell_type": "code",
   "execution_count": 51,
   "metadata": {},
   "outputs": [
    {
     "name": "stdout",
     "output_type": "stream",
     "text": [
      "F1: 0.5978128797083839\n",
      "roc_auc_score: 0.8296673602291458\n",
      "Параметры лучшей модели: RandomForestClassifier(max_depth=13, n_estimators=8, random_state=12345)\n"
     ]
    }
   ],
   "source": [
    "n = 30\n",
    "k = 30\n",
    "best_model = None\n",
    "best_result = 0\n",
    "for depth in range(5, k):\n",
    "    for est in range(1, n):\n",
    "        model = RandomForestClassifier(class_weight=None,random_state=12345, \n",
    "                                       n_estimators=est, max_depth=depth) \n",
    "        model.fit(features_upsampled, target_upsampled) \n",
    "        predicted_valid = model.predict(features_valid)\n",
    "        result = f1_score(target_valid, predicted_valid)\n",
    "        if result > best_result:\n",
    "            best_model_rf3 = model \n",
    "            best_result = result\n",
    "\n",
    "print(\"F1:\", best_result)\n",
    "probabilities_valid = best_model_rf3.predict_proba(features_valid)\n",
    "probabilities_one_valid = probabilities_valid[:, 1]\n",
    "print(\"roc_auc_score:\", roc_auc_score(target_valid, probabilities_one_valid))\n",
    "print(\"Параметры лучшей модели:\", best_model_rf3)"
   ]
  },
  {
   "cell_type": "markdown",
   "metadata": {},
   "source": [
    "#### Способ 3 - Уменьшение выборки"
   ]
  },
  {
   "cell_type": "code",
   "execution_count": null,
   "metadata": {},
   "outputs": [],
   "source": []
  },
  {
   "cell_type": "code",
   "execution_count": 52,
   "metadata": {},
   "outputs": [],
   "source": [
    "def downsample(features, target, fraction):\n",
    "    features_zeros = features[target == 0]\n",
    "    features_ones = features[target == 1]\n",
    "    target_zeros = target[target == 0]\n",
    "    target_ones = target[target == 1]\n",
    "\n",
    "    features_downsampled = pd.concat(\n",
    "        [features_zeros.sample(frac=fraction, random_state=12345)] + [features_ones])\n",
    "    \n",
    "    target_downsampled = pd.concat(\n",
    "        [target_zeros.sample(frac=fraction, random_state=12345)] + [target_ones])\n",
    "    \n",
    "    features_downsampled, target_downsampled = shuffle(features_downsampled, target_downsampled, random_state=12345)\n",
    "    \n",
    "    return features_downsampled, target_downsampled\n",
    "\n"
   ]
  },
  {
   "cell_type": "code",
   "execution_count": 53,
   "metadata": {},
   "outputs": [
    {
     "name": "stdout",
     "output_type": "stream",
     "text": [
      "(2414, 11)\n",
      "(2414,)\n"
     ]
    }
   ],
   "source": [
    "features_downsampled, target_downsampled = downsample(features_train, target_train, 0.25)\n",
    "\n",
    "print(features_downsampled.shape)\n",
    "print(target_downsampled.shape)"
   ]
  },
  {
   "cell_type": "code",
   "execution_count": 54,
   "metadata": {},
   "outputs": [
    {
     "data": {
      "text/plain": [
       "1    1219\n",
       "0    1195\n",
       "Name: Exited, dtype: int64"
      ]
     },
     "execution_count": 54,
     "metadata": {},
     "output_type": "execute_result"
    }
   ],
   "source": [
    "target_downsampled.value_counts()"
   ]
  },
  {
   "cell_type": "markdown",
   "metadata": {},
   "source": [
    "Decision Tree"
   ]
  },
  {
   "cell_type": "code",
   "execution_count": 55,
   "metadata": {},
   "outputs": [
    {
     "name": "stdout",
     "output_type": "stream",
     "text": [
      "F1: 0.5452847805788982\n",
      "roc_auc_score: 0.8126681915504061\n",
      "Параметры лучшей модели: DecisionTreeClassifier(max_depth=7, random_state=12345)\n"
     ]
    }
   ],
   "source": [
    "n = 50\n",
    "best_model = None\n",
    "best_result = 0\n",
    "for depth in range(1, n):\n",
    "    model = DecisionTreeClassifier(class_weight=None, criterion='gini', \n",
    "                                   max_depth=depth,\n",
    "            max_features=None, max_leaf_nodes=None,\n",
    "            min_impurity_decrease=0.0, \n",
    "            min_samples_leaf=1, min_samples_split=2,\n",
    "            min_weight_fraction_leaf=0.0, random_state=12345,\n",
    "            splitter='best')  \n",
    "    model.fit(features_downsampled, target_downsampled)\n",
    "    predicted_valid = model.predict(features_valid)\n",
    "    result = f1_score(target_valid, predicted_valid)\n",
    "    if result > best_result:\n",
    "        best_model_dt4 = model \n",
    "        best_result = result\n",
    "\n",
    "print(\"F1:\", best_result)\n",
    "probabilities_valid = best_model_dt4.predict_proba(features_valid)\n",
    "probabilities_one_valid = probabilities_valid[:, 1]\n",
    "print(\"roc_auc_score:\", roc_auc_score(target_valid, probabilities_one_valid))\n",
    "print(\"Параметры лучшей модели:\", best_model_dt4)"
   ]
  },
  {
   "cell_type": "markdown",
   "metadata": {},
   "source": [
    "Random forest"
   ]
  },
  {
   "cell_type": "code",
   "execution_count": 56,
   "metadata": {},
   "outputs": [
    {
     "name": "stdout",
     "output_type": "stream",
     "text": [
      "F1: 0.5700389105058367\n",
      "roc_auc_score: 0.8349867036284073\n",
      "Параметры лучшей модели: RandomForestClassifier(max_depth=9, n_estimators=7, random_state=12345)\n"
     ]
    }
   ],
   "source": [
    "n = 30\n",
    "k = 30\n",
    "best_model = None\n",
    "best_result = 0\n",
    "for depth in range(5, k):\n",
    "    for est in range(1, n):\n",
    "        model = RandomForestClassifier(class_weight=None,random_state=12345, \n",
    "                                       n_estimators=est, max_depth=depth)\n",
    "        model.fit(features_downsampled, target_downsampled) \n",
    "        predicted_valid = model.predict(features_valid)\n",
    "        result = f1_score(target_valid, predicted_valid)\n",
    "        if result > best_result:\n",
    "            best_model_rf4 = model \n",
    "            best_result = result\n",
    "\n",
    "print(\"F1:\", best_result)\n",
    "probabilities_valid = best_model_rf4.predict_proba(features_valid)\n",
    "probabilities_one_valid = probabilities_valid[:, 1]\n",
    "print(\"roc_auc_score:\", roc_auc_score(target_valid, probabilities_one_valid))\n",
    "print(\"Параметры лучшей модели:\", best_model_rf4)"
   ]
  },
  {
   "cell_type": "markdown",
   "metadata": {},
   "source": [
    "Итог: построено 8 моделей: на 2 алгоритмах и 4 способах балансирования данных (без балансирования, взвешивание, увеличение выборки, уменьшение выборки).\n",
    "\n",
    "Наиболее высокая F-мера (0.61) и ROC-AUC (0.84) получается, если мы используем алгоритм Random forest, а балансировку классов делаем путем взвешивания"
   ]
  },
  {
   "cell_type": "markdown",
   "metadata": {},
   "source": [
    "## Тестирование модели"
   ]
  },
  {
   "cell_type": "code",
   "execution_count": null,
   "metadata": {},
   "outputs": [],
   "source": []
  },
  {
   "cell_type": "markdown",
   "metadata": {},
   "source": [
    "По результатам тестирования мы выбрали модель с алгоритмом Random Forest, и балансировкой классов путем взвешивания. Проверим модель на тестовой выборке."
   ]
  },
  {
   "cell_type": "code",
   "execution_count": 57,
   "metadata": {},
   "outputs": [
    {
     "name": "stdout",
     "output_type": "stream",
     "text": [
      "F1: 0.6330049261083744\n",
      "roc_auc_score: 0.8535525577254339\n",
      "Параметры модели: RandomForestClassifier(class_weight='balanced', max_depth=11, n_estimators=24,\n",
      "                       random_state=12345)\n"
     ]
    }
   ],
   "source": [
    "#Random Forest\n",
    "model = best_model_rf2 \n",
    "model.fit(features_train, target_train)\n",
    "predicted_test = model.predict(features_test)\n",
    "probabilities_test = model.predict_proba(features_test)\n",
    "probabilities_one_test = probabilities_test[:, 1]\n",
    "print(\"F1:\", f1_score(target_test, predicted_test))\n",
    "print(\"roc_auc_score:\", roc_auc_score(target_test, probabilities_one_test))\n",
    "print(\"Параметры модели:\", model)"
   ]
  },
  {
   "cell_type": "markdown",
   "metadata": {},
   "source": [
    "Вывод: выбранная модель хорошо себя показала и на тестовой выборке: F1 = 0.62 (при минимуме 0.59), а ROC-AUC = 0.85. Модель рекомендуем в продакшн\n"
   ]
  },
  {
   "cell_type": "markdown",
   "metadata": {},
   "source": [
    "## Общий вывод. "
   ]
  },
  {
   "cell_type": "markdown",
   "metadata": {},
   "source": [
    "Целью исследования было построить модель, которая на основе информации о клиентах банка, спрогнозировала бы наиболее вероятное поведение клиента: уйдет он или нет.\n",
    "Что мы сделали в ходе исследования:\n",
    "1. Были подготовлены данные: заполнены пропуски, преобразованы категориальные переменные, данные масштабированы, а также разбиты на обучающую (60%), валидационную (20%) и тестовую (20%) выборки.\n",
    "2. Классы по целевой переменной (Exit) были несбалансированы (соотношение 1 к 4), поэтому было рассмотрено несколько подходов к их балансировке.\n",
    "3. Обучено и проверено на валидационной выборке 8 моделей: 2 алгоритма (Decision Tree, Random Forest) и 4 подхода к балансироваке (без балансировки, взвешивание, уменьшение выборки, увеличение выборки.\n",
    "4. Наилучший результат (F1 = 0.61, ROC-AUC 0.84) на валидационной выборке показала модель на алгоритме Random Forest и балансировке классов путем взвешивания.\n",
    "5. Эта же модель показала хороший результат на тестовой выборке:  F1 = 0.62 (при минимуме 0.59), а ROC-AUC = 0.85. Эту модель рекомендуем в продакшн"
   ]
  },
  {
   "cell_type": "markdown",
   "metadata": {},
   "source": [
    "## Чек-лист готовности проекта"
   ]
  },
  {
   "cell_type": "markdown",
   "metadata": {},
   "source": [
    "Поставьте 'x' в выполненных пунктах. Далее нажмите Shift+Enter."
   ]
  },
  {
   "cell_type": "markdown",
   "metadata": {},
   "source": [
    "- [x]  Jupyter Notebook открыт\n",
    "- [x]  Весь код выполняется без ошибок\n",
    "- [x]  Ячейки с кодом расположены в порядке исполнения\n",
    "- [x]  Выполнен шаг 1: данные подготовлены\n",
    "- [x]  Выполнен шаг 2: задача исследована\n",
    "    - [x]  Исследован баланс классов\n",
    "    - [x]  Изучены модели без учёта дисбаланса\n",
    "    - [x]  Написаны выводы по результатам исследования\n",
    "- [x]  Выполнен шаг 3: учтён дисбаланс\n",
    "    - [x]  Применено несколько способов борьбы с дисбалансом\n",
    "    - [x]  Написаны выводы по результатам исследования\n",
    "- [x]  Выполнен шаг 4: проведено тестирование\n",
    "- [x]  Удалось достичь *F1*-меры не менее 0.59\n",
    "- [x]  Исследована метрика *AUC-ROC*"
   ]
  }
 ],
 "metadata": {
  "ExecuteTimeLog": [
   {
    "duration": 47,
    "start_time": "2023-08-20T18:39:17.880Z"
   },
   {
    "duration": 0,
    "start_time": "2023-08-20T18:39:17.930Z"
   },
   {
    "duration": 0,
    "start_time": "2023-08-20T18:39:17.931Z"
   },
   {
    "duration": 0,
    "start_time": "2023-08-20T18:39:17.933Z"
   },
   {
    "duration": 0,
    "start_time": "2023-08-20T18:39:17.934Z"
   },
   {
    "duration": 0,
    "start_time": "2023-08-20T18:39:17.935Z"
   },
   {
    "duration": 0,
    "start_time": "2023-08-20T18:39:17.936Z"
   },
   {
    "duration": 0,
    "start_time": "2023-08-20T18:39:17.937Z"
   },
   {
    "duration": 0,
    "start_time": "2023-08-20T18:39:17.938Z"
   },
   {
    "duration": 0,
    "start_time": "2023-08-20T18:39:17.938Z"
   },
   {
    "duration": 0,
    "start_time": "2023-08-20T18:39:17.949Z"
   },
   {
    "duration": 0,
    "start_time": "2023-08-20T18:39:17.950Z"
   },
   {
    "duration": 0,
    "start_time": "2023-08-20T18:39:17.952Z"
   },
   {
    "duration": 0,
    "start_time": "2023-08-20T18:39:17.953Z"
   },
   {
    "duration": 0,
    "start_time": "2023-08-20T18:39:17.954Z"
   },
   {
    "duration": 0,
    "start_time": "2023-08-20T18:39:17.955Z"
   },
   {
    "duration": 0,
    "start_time": "2023-08-20T18:39:17.956Z"
   },
   {
    "duration": 0,
    "start_time": "2023-08-20T18:39:17.957Z"
   },
   {
    "duration": 0,
    "start_time": "2023-08-20T18:39:17.958Z"
   },
   {
    "duration": 0,
    "start_time": "2023-08-20T18:39:17.959Z"
   },
   {
    "duration": 0,
    "start_time": "2023-08-20T18:39:17.960Z"
   },
   {
    "duration": 0,
    "start_time": "2023-08-20T18:39:17.961Z"
   },
   {
    "duration": 0,
    "start_time": "2023-08-20T18:39:17.962Z"
   },
   {
    "duration": 0,
    "start_time": "2023-08-20T18:39:17.963Z"
   },
   {
    "duration": 0,
    "start_time": "2023-08-20T18:39:17.964Z"
   },
   {
    "duration": 0,
    "start_time": "2023-08-20T18:39:17.965Z"
   },
   {
    "duration": 0,
    "start_time": "2023-08-20T18:39:17.966Z"
   },
   {
    "duration": 0,
    "start_time": "2023-08-20T18:39:17.967Z"
   },
   {
    "duration": 0,
    "start_time": "2023-08-20T18:39:17.967Z"
   },
   {
    "duration": 0,
    "start_time": "2023-08-20T18:39:17.968Z"
   },
   {
    "duration": 0,
    "start_time": "2023-08-20T18:39:17.969Z"
   },
   {
    "duration": 0,
    "start_time": "2023-08-20T18:39:17.970Z"
   },
   {
    "duration": 0,
    "start_time": "2023-08-20T18:39:17.972Z"
   },
   {
    "duration": 0,
    "start_time": "2023-08-20T18:39:17.973Z"
   },
   {
    "duration": 0,
    "start_time": "2023-08-20T18:39:17.975Z"
   },
   {
    "duration": 0,
    "start_time": "2023-08-20T18:39:17.976Z"
   },
   {
    "duration": 0,
    "start_time": "2023-08-20T18:39:17.977Z"
   },
   {
    "duration": 0,
    "start_time": "2023-08-20T18:39:17.978Z"
   },
   {
    "duration": 0,
    "start_time": "2023-08-20T18:39:17.980Z"
   },
   {
    "duration": 0,
    "start_time": "2023-08-20T18:39:17.981Z"
   },
   {
    "duration": 0,
    "start_time": "2023-08-20T18:39:17.983Z"
   },
   {
    "duration": 0,
    "start_time": "2023-08-20T18:39:17.984Z"
   },
   {
    "duration": 0,
    "start_time": "2023-08-20T18:39:17.985Z"
   },
   {
    "duration": 0,
    "start_time": "2023-08-20T18:39:18.050Z"
   },
   {
    "duration": 0,
    "start_time": "2023-08-20T18:39:18.051Z"
   },
   {
    "duration": 0,
    "start_time": "2023-08-20T18:39:18.052Z"
   },
   {
    "duration": 9,
    "start_time": "2023-08-20T18:39:18.055Z"
   },
   {
    "duration": 1,
    "start_time": "2023-08-20T18:39:18.064Z"
   },
   {
    "duration": 0,
    "start_time": "2023-08-20T18:39:18.066Z"
   },
   {
    "duration": 0,
    "start_time": "2023-08-20T18:39:18.067Z"
   },
   {
    "duration": 0,
    "start_time": "2023-08-20T18:39:18.068Z"
   },
   {
    "duration": 1597,
    "start_time": "2023-08-20T20:20:29.665Z"
   },
   {
    "duration": 406,
    "start_time": "2023-08-20T20:20:31.265Z"
   },
   {
    "duration": 18,
    "start_time": "2023-08-20T20:20:31.674Z"
   },
   {
    "duration": 20,
    "start_time": "2023-08-20T20:20:31.694Z"
   },
   {
    "duration": 34,
    "start_time": "2023-08-20T20:20:31.716Z"
   },
   {
    "duration": 1838,
    "start_time": "2023-08-20T20:20:31.751Z"
   },
   {
    "duration": 10,
    "start_time": "2023-08-20T20:20:33.590Z"
   },
   {
    "duration": 12,
    "start_time": "2023-08-20T20:20:33.602Z"
   },
   {
    "duration": 6,
    "start_time": "2023-08-20T20:20:33.616Z"
   },
   {
    "duration": 6,
    "start_time": "2023-08-20T20:20:33.624Z"
   },
   {
    "duration": 26,
    "start_time": "2023-08-20T20:20:33.631Z"
   },
   {
    "duration": 12,
    "start_time": "2023-08-20T20:20:33.660Z"
   },
   {
    "duration": 13,
    "start_time": "2023-08-20T20:20:33.674Z"
   },
   {
    "duration": 4,
    "start_time": "2023-08-20T20:20:33.690Z"
   },
   {
    "duration": 33,
    "start_time": "2023-08-20T20:20:33.695Z"
   },
   {
    "duration": 4,
    "start_time": "2023-08-20T20:20:33.758Z"
   },
   {
    "duration": 13,
    "start_time": "2023-08-20T20:20:33.764Z"
   },
   {
    "duration": 6,
    "start_time": "2023-08-20T20:20:33.779Z"
   },
   {
    "duration": 30,
    "start_time": "2023-08-20T20:20:33.787Z"
   },
   {
    "duration": 7,
    "start_time": "2023-08-20T20:20:33.819Z"
   },
   {
    "duration": 6,
    "start_time": "2023-08-20T20:20:33.828Z"
   },
   {
    "duration": 12,
    "start_time": "2023-08-20T20:20:33.836Z"
   },
   {
    "duration": 4,
    "start_time": "2023-08-20T20:20:33.856Z"
   },
   {
    "duration": 39,
    "start_time": "2023-08-20T20:20:33.862Z"
   },
   {
    "duration": 30,
    "start_time": "2023-08-20T20:20:33.902Z"
   },
   {
    "duration": 33,
    "start_time": "2023-08-20T20:20:33.934Z"
   },
   {
    "duration": 19,
    "start_time": "2023-08-20T20:20:33.969Z"
   },
   {
    "duration": 6,
    "start_time": "2023-08-20T20:20:33.989Z"
   },
   {
    "duration": 172,
    "start_time": "2023-08-20T20:20:33.997Z"
   },
   {
    "duration": 1336,
    "start_time": "2023-08-20T20:20:34.171Z"
   },
   {
    "duration": 71411,
    "start_time": "2023-08-20T20:20:35.509Z"
   },
   {
    "duration": 1305,
    "start_time": "2023-08-20T20:21:46.922Z"
   },
   {
    "duration": 71307,
    "start_time": "2023-08-20T20:21:48.229Z"
   },
   {
    "duration": 5,
    "start_time": "2023-08-20T20:22:59.538Z"
   },
   {
    "duration": 12,
    "start_time": "2023-08-20T20:22:59.557Z"
   },
   {
    "duration": 5,
    "start_time": "2023-08-20T20:22:59.571Z"
   },
   {
    "duration": 1594,
    "start_time": "2023-08-20T20:22:59.577Z"
   },
   {
    "duration": 95898,
    "start_time": "2023-08-20T20:23:01.173Z"
   },
   {
    "duration": 5,
    "start_time": "2023-08-20T20:24:37.073Z"
   },
   {
    "duration": 16,
    "start_time": "2023-08-20T20:24:37.080Z"
   },
   {
    "duration": 6,
    "start_time": "2023-08-20T20:24:37.100Z"
   },
   {
    "duration": 674,
    "start_time": "2023-08-20T20:24:37.108Z"
   },
   {
    "duration": 39973,
    "start_time": "2023-08-20T20:24:37.783Z"
   },
   {
    "duration": 28,
    "start_time": "2023-08-20T20:25:17.757Z"
   },
   {
    "duration": 172,
    "start_time": "2023-08-20T20:25:17.787Z"
   },
   {
    "duration": 27,
    "start_time": "2023-08-20T20:25:17.960Z"
   },
   {
    "duration": 114,
    "start_time": "2023-08-20T20:25:17.989Z"
   },
   {
    "duration": 33,
    "start_time": "2023-08-20T20:25:18.105Z"
   },
   {
    "duration": 263,
    "start_time": "2023-08-20T20:25:18.140Z"
   },
   {
    "duration": 20,
    "start_time": "2023-08-20T20:25:18.407Z"
   },
   {
    "duration": 96,
    "start_time": "2023-08-20T20:25:18.429Z"
   },
   {
    "duration": 5,
    "start_time": "2023-08-20T20:29:31.637Z"
   },
   {
    "duration": 109,
    "start_time": "2023-08-20T20:29:31.644Z"
   },
   {
    "duration": 20,
    "start_time": "2023-08-20T20:29:31.755Z"
   },
   {
    "duration": 35,
    "start_time": "2023-08-20T20:29:31.777Z"
   },
   {
    "duration": 30,
    "start_time": "2023-08-20T20:29:31.815Z"
   },
   {
    "duration": 2155,
    "start_time": "2023-08-20T20:29:31.847Z"
   },
   {
    "duration": 10,
    "start_time": "2023-08-20T20:29:34.004Z"
   },
   {
    "duration": 13,
    "start_time": "2023-08-20T20:29:34.016Z"
   },
   {
    "duration": 27,
    "start_time": "2023-08-20T20:29:34.030Z"
   },
   {
    "duration": 9,
    "start_time": "2023-08-20T20:29:34.059Z"
   },
   {
    "duration": 5,
    "start_time": "2023-08-20T20:29:34.071Z"
   },
   {
    "duration": 13,
    "start_time": "2023-08-20T20:29:34.078Z"
   },
   {
    "duration": 21,
    "start_time": "2023-08-20T20:29:34.093Z"
   },
   {
    "duration": 4,
    "start_time": "2023-08-20T20:29:34.116Z"
   },
   {
    "duration": 66,
    "start_time": "2023-08-20T20:29:34.122Z"
   },
   {
    "duration": 4,
    "start_time": "2023-08-20T20:29:34.191Z"
   },
   {
    "duration": 14,
    "start_time": "2023-08-20T20:29:34.197Z"
   },
   {
    "duration": 6,
    "start_time": "2023-08-20T20:29:34.213Z"
   },
   {
    "duration": 35,
    "start_time": "2023-08-20T20:29:34.221Z"
   },
   {
    "duration": 7,
    "start_time": "2023-08-20T20:29:34.259Z"
   },
   {
    "duration": 5,
    "start_time": "2023-08-20T20:29:34.268Z"
   },
   {
    "duration": 5,
    "start_time": "2023-08-20T20:29:34.275Z"
   },
   {
    "duration": 5,
    "start_time": "2023-08-20T20:29:34.282Z"
   },
   {
    "duration": 2,
    "start_time": "2023-08-20T20:29:34.289Z"
   },
   {
    "duration": 21,
    "start_time": "2023-08-20T20:29:34.293Z"
   },
   {
    "duration": 60,
    "start_time": "2023-08-20T20:29:34.316Z"
   },
   {
    "duration": 17,
    "start_time": "2023-08-20T20:29:34.378Z"
   },
   {
    "duration": 6,
    "start_time": "2023-08-20T20:29:34.396Z"
   },
   {
    "duration": 167,
    "start_time": "2023-08-20T20:29:34.405Z"
   },
   {
    "duration": 1331,
    "start_time": "2023-08-20T20:29:34.573Z"
   },
   {
    "duration": 71558,
    "start_time": "2023-08-20T20:29:35.905Z"
   },
   {
    "duration": 1342,
    "start_time": "2023-08-20T20:30:47.465Z"
   },
   {
    "duration": 70649,
    "start_time": "2023-08-20T20:30:48.810Z"
   },
   {
    "duration": 4,
    "start_time": "2023-08-20T20:31:59.461Z"
   },
   {
    "duration": 30,
    "start_time": "2023-08-20T20:31:59.467Z"
   },
   {
    "duration": 5,
    "start_time": "2023-08-20T20:31:59.498Z"
   },
   {
    "duration": 1579,
    "start_time": "2023-08-20T20:31:59.504Z"
   },
   {
    "duration": 95972,
    "start_time": "2023-08-20T20:32:01.085Z"
   },
   {
    "duration": 3,
    "start_time": "2023-08-20T20:33:37.059Z"
   },
   {
    "duration": 23,
    "start_time": "2023-08-20T20:33:37.064Z"
   },
   {
    "duration": 7,
    "start_time": "2023-08-20T20:33:37.089Z"
   },
   {
    "duration": 644,
    "start_time": "2023-08-20T20:33:37.097Z"
   },
   {
    "duration": 39881,
    "start_time": "2023-08-20T20:33:37.742Z"
   },
   {
    "duration": 35,
    "start_time": "2023-08-20T20:34:17.624Z"
   },
   {
    "duration": 159,
    "start_time": "2023-08-20T20:34:17.661Z"
   },
   {
    "duration": 34,
    "start_time": "2023-08-20T20:34:17.822Z"
   },
   {
    "duration": 99,
    "start_time": "2023-08-20T20:34:17.858Z"
   },
   {
    "duration": 30,
    "start_time": "2023-08-20T20:34:17.959Z"
   },
   {
    "duration": 257,
    "start_time": "2023-08-20T20:34:17.991Z"
   },
   {
    "duration": 19,
    "start_time": "2023-08-20T20:34:18.255Z"
   },
   {
    "duration": 85,
    "start_time": "2023-08-20T20:34:18.275Z"
   },
   {
    "duration": 2775,
    "start_time": "2023-08-21T05:28:17.435Z"
   },
   {
    "duration": 205,
    "start_time": "2023-08-21T05:28:20.212Z"
   },
   {
    "duration": 17,
    "start_time": "2023-08-21T05:28:20.418Z"
   },
   {
    "duration": 29,
    "start_time": "2023-08-21T05:28:20.437Z"
   },
   {
    "duration": 24,
    "start_time": "2023-08-21T05:28:20.470Z"
   },
   {
    "duration": 1768,
    "start_time": "2023-08-21T05:28:20.496Z"
   },
   {
    "duration": 10,
    "start_time": "2023-08-21T05:28:22.266Z"
   },
   {
    "duration": 21,
    "start_time": "2023-08-21T05:28:22.278Z"
   },
   {
    "duration": 14,
    "start_time": "2023-08-21T05:28:22.302Z"
   },
   {
    "duration": 16,
    "start_time": "2023-08-21T05:28:22.318Z"
   },
   {
    "duration": 6,
    "start_time": "2023-08-21T05:28:22.336Z"
   },
   {
    "duration": 50,
    "start_time": "2023-08-21T05:28:22.344Z"
   },
   {
    "duration": 24,
    "start_time": "2023-08-21T05:28:22.397Z"
   },
   {
    "duration": 16,
    "start_time": "2023-08-21T05:28:22.424Z"
   },
   {
    "duration": 41,
    "start_time": "2023-08-21T05:28:22.443Z"
   },
   {
    "duration": 5,
    "start_time": "2023-08-21T05:28:22.486Z"
   },
   {
    "duration": 23,
    "start_time": "2023-08-21T05:28:22.493Z"
   },
   {
    "duration": 5,
    "start_time": "2023-08-21T05:28:22.519Z"
   },
   {
    "duration": 13,
    "start_time": "2023-08-21T05:28:22.526Z"
   },
   {
    "duration": 8,
    "start_time": "2023-08-21T05:28:22.540Z"
   },
   {
    "duration": 7,
    "start_time": "2023-08-21T05:28:22.550Z"
   },
   {
    "duration": 9,
    "start_time": "2023-08-21T05:28:22.558Z"
   },
   {
    "duration": 7,
    "start_time": "2023-08-21T05:28:22.568Z"
   },
   {
    "duration": 4,
    "start_time": "2023-08-21T05:28:22.577Z"
   },
   {
    "duration": 22,
    "start_time": "2023-08-21T05:28:22.583Z"
   },
   {
    "duration": 44,
    "start_time": "2023-08-21T05:28:22.608Z"
   },
   {
    "duration": 16,
    "start_time": "2023-08-21T05:28:22.654Z"
   },
   {
    "duration": 6,
    "start_time": "2023-08-21T05:28:22.671Z"
   },
   {
    "duration": 179,
    "start_time": "2023-08-21T05:28:22.678Z"
   },
   {
    "duration": 1295,
    "start_time": "2023-08-21T05:28:22.859Z"
   },
   {
    "duration": 70855,
    "start_time": "2023-08-21T05:28:24.156Z"
   },
   {
    "duration": 1302,
    "start_time": "2023-08-21T05:29:35.013Z"
   },
   {
    "duration": 70062,
    "start_time": "2023-08-21T05:29:36.317Z"
   },
   {
    "duration": 4,
    "start_time": "2023-08-21T05:30:46.381Z"
   },
   {
    "duration": 34,
    "start_time": "2023-08-21T05:30:46.387Z"
   },
   {
    "duration": 10,
    "start_time": "2023-08-21T05:30:46.423Z"
   },
   {
    "duration": 1577,
    "start_time": "2023-08-21T05:30:46.434Z"
   },
   {
    "duration": 95215,
    "start_time": "2023-08-21T05:30:48.013Z"
   },
   {
    "duration": 5,
    "start_time": "2023-08-21T05:32:23.230Z"
   },
   {
    "duration": 33,
    "start_time": "2023-08-21T05:32:23.236Z"
   },
   {
    "duration": 35,
    "start_time": "2023-08-21T05:32:23.272Z"
   },
   {
    "duration": 605,
    "start_time": "2023-08-21T05:32:23.308Z"
   },
   {
    "duration": 38602,
    "start_time": "2023-08-21T05:32:23.914Z"
   },
   {
    "duration": 31,
    "start_time": "2023-08-21T05:33:02.518Z"
   },
   {
    "duration": 160,
    "start_time": "2023-08-21T05:33:02.550Z"
   },
   {
    "duration": 35,
    "start_time": "2023-08-21T05:33:02.712Z"
   },
   {
    "duration": 121,
    "start_time": "2023-08-21T05:33:02.749Z"
   },
   {
    "duration": 29,
    "start_time": "2023-08-21T05:33:02.871Z"
   },
   {
    "duration": 253,
    "start_time": "2023-08-21T05:33:02.901Z"
   },
   {
    "duration": 21,
    "start_time": "2023-08-21T05:33:03.156Z"
   },
   {
    "duration": 102,
    "start_time": "2023-08-21T05:33:03.178Z"
   },
   {
    "duration": 2747,
    "start_time": "2023-08-23T15:05:53.802Z"
   },
   {
    "duration": 138,
    "start_time": "2023-08-23T15:05:56.550Z"
   },
   {
    "duration": 17,
    "start_time": "2023-08-23T15:05:56.689Z"
   },
   {
    "duration": 18,
    "start_time": "2023-08-23T15:05:56.708Z"
   },
   {
    "duration": 43,
    "start_time": "2023-08-23T15:05:56.727Z"
   },
   {
    "duration": 1798,
    "start_time": "2023-08-23T15:05:56.772Z"
   },
   {
    "duration": 2,
    "start_time": "2023-08-23T15:05:58.572Z"
   },
   {
    "duration": 3,
    "start_time": "2023-08-23T15:05:58.586Z"
   },
   {
    "duration": 20,
    "start_time": "2023-08-23T15:05:58.590Z"
   },
   {
    "duration": 6,
    "start_time": "2023-08-23T15:05:58.613Z"
   },
   {
    "duration": 7,
    "start_time": "2023-08-23T15:05:58.621Z"
   },
   {
    "duration": 24,
    "start_time": "2023-08-23T15:05:58.630Z"
   },
   {
    "duration": 16,
    "start_time": "2023-08-23T15:05:58.656Z"
   },
   {
    "duration": 9,
    "start_time": "2023-08-23T15:05:58.674Z"
   },
   {
    "duration": 36,
    "start_time": "2023-08-23T15:05:58.684Z"
   },
   {
    "duration": 20,
    "start_time": "2023-08-23T15:05:58.722Z"
   },
   {
    "duration": 6,
    "start_time": "2023-08-23T15:05:58.744Z"
   },
   {
    "duration": 36,
    "start_time": "2023-08-23T15:05:58.752Z"
   },
   {
    "duration": 4,
    "start_time": "2023-08-23T15:05:58.790Z"
   },
   {
    "duration": 17,
    "start_time": "2023-08-23T15:05:58.795Z"
   },
   {
    "duration": 4,
    "start_time": "2023-08-23T15:05:58.814Z"
   },
   {
    "duration": 30,
    "start_time": "2023-08-23T15:05:58.819Z"
   },
   {
    "duration": 17,
    "start_time": "2023-08-23T15:05:58.850Z"
   },
   {
    "duration": 19,
    "start_time": "2023-08-23T15:05:58.869Z"
   },
   {
    "duration": 11,
    "start_time": "2023-08-23T15:05:58.890Z"
   },
   {
    "duration": 26,
    "start_time": "2023-08-23T15:05:58.903Z"
   },
   {
    "duration": 4,
    "start_time": "2023-08-23T15:05:58.931Z"
   },
   {
    "duration": 36,
    "start_time": "2023-08-23T15:05:58.938Z"
   },
   {
    "duration": 79,
    "start_time": "2023-08-23T15:05:58.976Z"
   },
   {
    "duration": 19,
    "start_time": "2023-08-23T15:05:59.057Z"
   },
   {
    "duration": 5,
    "start_time": "2023-08-23T15:05:59.078Z"
   },
   {
    "duration": 139,
    "start_time": "2023-08-23T15:05:59.085Z"
   },
   {
    "duration": 1477,
    "start_time": "2023-08-23T15:05:59.226Z"
   },
   {
    "duration": 75367,
    "start_time": "2023-08-23T15:06:00.705Z"
   },
   {
    "duration": 1366,
    "start_time": "2023-08-23T15:07:16.074Z"
   },
   {
    "duration": 74015,
    "start_time": "2023-08-23T15:07:17.442Z"
   },
   {
    "duration": 4,
    "start_time": "2023-08-23T15:08:31.459Z"
   },
   {
    "duration": 42,
    "start_time": "2023-08-23T15:08:31.464Z"
   },
   {
    "duration": 43,
    "start_time": "2023-08-23T15:08:31.507Z"
   },
   {
    "duration": 1722,
    "start_time": "2023-08-23T15:08:31.552Z"
   },
   {
    "duration": 101817,
    "start_time": "2023-08-23T15:08:33.276Z"
   },
   {
    "duration": 4,
    "start_time": "2023-08-23T15:10:15.095Z"
   },
   {
    "duration": 52,
    "start_time": "2023-08-23T15:10:15.100Z"
   },
   {
    "duration": 26,
    "start_time": "2023-08-23T15:10:15.154Z"
   },
   {
    "duration": 655,
    "start_time": "2023-08-23T15:10:15.182Z"
   },
   {
    "duration": 37750,
    "start_time": "2023-08-23T15:10:15.839Z"
   },
   {
    "duration": 0,
    "start_time": "2023-08-23T15:10:53.591Z"
   },
   {
    "duration": 0,
    "start_time": "2023-08-23T15:10:53.592Z"
   },
   {
    "duration": 0,
    "start_time": "2023-08-23T15:10:53.593Z"
   },
   {
    "duration": 3025,
    "start_time": "2023-08-24T04:39:18.435Z"
   },
   {
    "duration": 202,
    "start_time": "2023-08-24T04:39:21.462Z"
   },
   {
    "duration": 19,
    "start_time": "2023-08-24T04:39:21.666Z"
   },
   {
    "duration": 14,
    "start_time": "2023-08-24T04:39:21.688Z"
   },
   {
    "duration": 12,
    "start_time": "2023-08-24T04:39:21.704Z"
   },
   {
    "duration": 2030,
    "start_time": "2023-08-24T04:39:21.718Z"
   },
   {
    "duration": 8,
    "start_time": "2023-08-24T04:39:23.751Z"
   },
   {
    "duration": 11,
    "start_time": "2023-08-24T04:39:23.761Z"
   },
   {
    "duration": 12,
    "start_time": "2023-08-24T04:39:23.774Z"
   },
   {
    "duration": 16,
    "start_time": "2023-08-24T04:39:23.789Z"
   },
   {
    "duration": 5,
    "start_time": "2023-08-24T04:39:23.807Z"
   },
   {
    "duration": 7,
    "start_time": "2023-08-24T04:39:23.813Z"
   },
   {
    "duration": 8,
    "start_time": "2023-08-24T04:39:23.822Z"
   },
   {
    "duration": 28,
    "start_time": "2023-08-24T04:39:23.832Z"
   },
   {
    "duration": 26,
    "start_time": "2023-08-24T04:39:23.862Z"
   },
   {
    "duration": 26,
    "start_time": "2023-08-24T04:39:23.890Z"
   },
   {
    "duration": 3,
    "start_time": "2023-08-24T04:39:23.919Z"
   },
   {
    "duration": 41,
    "start_time": "2023-08-24T04:39:23.924Z"
   },
   {
    "duration": 24,
    "start_time": "2023-08-24T04:39:23.967Z"
   },
   {
    "duration": 5,
    "start_time": "2023-08-24T04:39:23.993Z"
   },
   {
    "duration": 47,
    "start_time": "2023-08-24T04:39:24.000Z"
   },
   {
    "duration": 6,
    "start_time": "2023-08-24T04:39:24.059Z"
   },
   {
    "duration": 36,
    "start_time": "2023-08-24T04:39:24.067Z"
   },
   {
    "duration": 13,
    "start_time": "2023-08-24T04:39:24.105Z"
   },
   {
    "duration": 5,
    "start_time": "2023-08-24T04:39:24.120Z"
   },
   {
    "duration": 15,
    "start_time": "2023-08-24T04:39:24.128Z"
   },
   {
    "duration": 5,
    "start_time": "2023-08-24T04:39:24.159Z"
   },
   {
    "duration": 5,
    "start_time": "2023-08-24T04:39:24.169Z"
   },
   {
    "duration": 20,
    "start_time": "2023-08-24T04:39:24.177Z"
   },
   {
    "duration": 14,
    "start_time": "2023-08-24T04:39:24.199Z"
   },
   {
    "duration": 4,
    "start_time": "2023-08-24T04:39:24.215Z"
   },
   {
    "duration": 53,
    "start_time": "2023-08-24T04:39:24.221Z"
   },
   {
    "duration": 41,
    "start_time": "2023-08-24T04:39:24.277Z"
   },
   {
    "duration": 40,
    "start_time": "2023-08-24T04:39:24.321Z"
   },
   {
    "duration": 19,
    "start_time": "2023-08-24T04:39:24.364Z"
   },
   {
    "duration": 8,
    "start_time": "2023-08-24T04:39:24.385Z"
   },
   {
    "duration": 14,
    "start_time": "2023-08-24T04:39:24.395Z"
   },
   {
    "duration": 14,
    "start_time": "2023-08-24T04:39:24.412Z"
   },
   {
    "duration": 199,
    "start_time": "2023-08-24T04:39:24.428Z"
   },
   {
    "duration": 1394,
    "start_time": "2023-08-24T04:39:24.629Z"
   },
   {
    "duration": 73900,
    "start_time": "2023-08-24T04:39:26.025Z"
   },
   {
    "duration": 1341,
    "start_time": "2023-08-24T04:40:39.927Z"
   },
   {
    "duration": 71717,
    "start_time": "2023-08-24T04:40:41.270Z"
   },
   {
    "duration": 3,
    "start_time": "2023-08-24T04:41:52.989Z"
   },
   {
    "duration": 14,
    "start_time": "2023-08-24T04:41:52.994Z"
   },
   {
    "duration": 13,
    "start_time": "2023-08-24T04:41:53.010Z"
   },
   {
    "duration": 7,
    "start_time": "2023-08-24T04:41:53.025Z"
   },
   {
    "duration": 30,
    "start_time": "2023-08-24T04:41:53.034Z"
   },
   {
    "duration": 5,
    "start_time": "2023-08-24T04:41:53.066Z"
   },
   {
    "duration": 1720,
    "start_time": "2023-08-24T04:41:53.073Z"
   },
   {
    "duration": 98602,
    "start_time": "2023-08-24T04:41:54.794Z"
   },
   {
    "duration": 5,
    "start_time": "2023-08-24T04:43:33.397Z"
   },
   {
    "duration": 64,
    "start_time": "2023-08-24T04:43:33.403Z"
   },
   {
    "duration": 5,
    "start_time": "2023-08-24T04:43:33.468Z"
   },
   {
    "duration": 678,
    "start_time": "2023-08-24T04:43:33.474Z"
   },
   {
    "duration": 40010,
    "start_time": "2023-08-24T04:43:34.159Z"
   },
   {
    "duration": 215,
    "start_time": "2023-08-24T04:44:14.172Z"
   }
  ],
  "kernelspec": {
   "display_name": "Python 3 (ipykernel)",
   "language": "python",
   "name": "python3"
  },
  "language_info": {
   "codemirror_mode": {
    "name": "ipython",
    "version": 3
   },
   "file_extension": ".py",
   "mimetype": "text/x-python",
   "name": "python",
   "nbconvert_exporter": "python",
   "pygments_lexer": "ipython3",
   "version": "3.9.13"
  },
  "toc": {
   "base_numbering": 1,
   "nav_menu": {},
   "number_sections": true,
   "sideBar": true,
   "skip_h1_title": true,
   "title_cell": "Содержание",
   "title_sidebar": "Contents",
   "toc_cell": true,
   "toc_position": {},
   "toc_section_display": true,
   "toc_window_display": true
  }
 },
 "nbformat": 4,
 "nbformat_minor": 4
}
